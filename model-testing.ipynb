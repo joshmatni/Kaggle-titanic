{
 "cells": [
  {
   "cell_type": "code",
   "execution_count": 1,
   "id": "b1eeec9d",
   "metadata": {
    "_cell_guid": "b1076dfc-b9ad-4769-8c92-a6c4dae69d19",
    "_uuid": "8f2839f25d086af736a60e9eeb907d3b93b6e0e5",
    "execution": {
     "iopub.execute_input": "2025-02-06T05:11:10.973822Z",
     "iopub.status.busy": "2025-02-06T05:11:10.973236Z",
     "iopub.status.idle": "2025-02-06T05:11:12.021593Z",
     "shell.execute_reply": "2025-02-06T05:11:12.020091Z"
    },
    "papermill": {
     "duration": 1.056087,
     "end_time": "2025-02-06T05:11:12.024044",
     "exception": false,
     "start_time": "2025-02-06T05:11:10.967957",
     "status": "completed"
    },
    "tags": []
   },
   "outputs": [
    {
     "name": "stdout",
     "output_type": "stream",
     "text": [
      "/kaggle/input/titanic/train.csv\n",
      "/kaggle/input/titanic/test.csv\n",
      "/kaggle/input/titanic/gender_submission.csv\n"
     ]
    }
   ],
   "source": [
    "# This Python 3 environment comes with many helpful analytics libraries installed\n",
    "# It is defined by the kaggle/python Docker image: https://github.com/kaggle/docker-python\n",
    "# For example, here's several helpful packages to load\n",
    "\n",
    "import numpy as np # linear algebra\n",
    "import pandas as pd # data processing, CSV file I/O (e.g. pd.read_csv)\n",
    "\n",
    "# Input data files are available in the read-only \"../input/\" directory\n",
    "# For example, running this (by clicking run or pressing Shift+Enter) will list all files under the input directory\n",
    "\n",
    "import os\n",
    "for dirname, _, filenames in os.walk('/kaggle/input'):\n",
    "    for filename in filenames:\n",
    "        print(os.path.join(dirname, filename))\n",
    "\n",
    "# You can write up to 20GB to the current directory (/kaggle/working/) that gets preserved as output when you create a version using \"Save & Run All\" \n",
    "# You can also write temporary files to /kaggle/temp/, but they won't be saved outside of the current session"
   ]
  },
  {
   "cell_type": "code",
   "execution_count": 2,
   "id": "f52e1701",
   "metadata": {
    "execution": {
     "iopub.execute_input": "2025-02-06T05:11:12.032507Z",
     "iopub.status.busy": "2025-02-06T05:11:12.031954Z",
     "iopub.status.idle": "2025-02-06T05:11:13.536993Z",
     "shell.execute_reply": "2025-02-06T05:11:13.535552Z"
    },
    "papermill": {
     "duration": 1.511344,
     "end_time": "2025-02-06T05:11:13.539150",
     "exception": false,
     "start_time": "2025-02-06T05:11:12.027806",
     "status": "completed"
    },
    "tags": []
   },
   "outputs": [],
   "source": [
    "# cleaning and preprocessing\n",
    "train_data = pd.read_csv(\"/kaggle/input/titanic/train.csv\")\n",
    "test_data = pd.read_csv(\"/kaggle/input/titanic/test.csv\")\n",
    "gender_data = pd.read_csv(\"/kaggle/input/titanic/gender_submission.csv\")\n",
    "\n",
    "# add family_size feature\n",
    "train_data[\"family_size\"] = train_data[\"SibSp\"] + train_data[\"Parch\"]\n",
    "test_data[\"family_size\"] = test_data[\"SibSp\"] + test_data[\"Parch\"]\n",
    "\n",
    "# fill missing age values with mean for both train and test datasets\n",
    "train_mean_age = round(train_data[\"Age\"].mean())\n",
    "train_data.fillna({\"Age\": train_mean_age}, inplace=True)\n",
    "\n",
    "test_mean_age = round(test_data[\"Age\"].mean())\n",
    "test_data.fillna({\"Age\": test_mean_age}, inplace=True)\n",
    "\n",
    "# change Sex (Categorical) to Numerical for train and test\n",
    "pd.set_option('future.no_silent_downcasting', True) # need this or else Downcasting behavior\n",
    "train_data.replace({\"Sex\": {\"female\": 1, \"male\": 0}}, inplace=True)\n",
    "test_data.replace({\"Sex\": {\"female\": 1, \"male\": 0}}, inplace=True)\n",
    "\n",
    "train_data[\"Sex\"] = train_data[\"Sex\"].astype(int)\n",
    "test_data[\"Sex\"] = test_data[\"Sex\"].astype(int)\n",
    "\n",
    "# scale fare and add it as a feature\n",
    "from sklearn.preprocessing import MinMaxScaler\n",
    "scaler = MinMaxScaler()\n",
    "\n",
    "train_data['Fare'] = scaler.fit_transform(train_data[['Fare']])\n",
    "test_data['Fare'] = scaler.fit_transform(test_data[['Fare']])\n",
    "\n",
    "# fill NaN for test data Fare\n",
    "test_data.fillna({\"Fare\": round(test_data['Fare'].mean())}, inplace=True)"
   ]
  },
  {
   "cell_type": "code",
   "execution_count": 3,
   "id": "e920bb9d",
   "metadata": {
    "execution": {
     "iopub.execute_input": "2025-02-06T05:11:13.546955Z",
     "iopub.status.busy": "2025-02-06T05:11:13.546350Z",
     "iopub.status.idle": "2025-02-06T05:11:14.460034Z",
     "shell.execute_reply": "2025-02-06T05:11:14.458660Z"
    },
    "papermill": {
     "duration": 0.919952,
     "end_time": "2025-02-06T05:11:14.462281",
     "exception": false,
     "start_time": "2025-02-06T05:11:13.542329",
     "status": "completed"
    },
    "tags": []
   },
   "outputs": [],
   "source": [
    "# begin ML trying with SVM Classification first\n",
    "from sklearn import svm\n",
    "from sklearn.ensemble import RandomForestClassifier\n",
    "from sklearn.ensemble import GradientBoostingClassifier\n",
    "\n",
    "y = train_data[\"Survived\"]\n",
    "features = [\"Pclass\", \"Sex\", \"family_size\", \"Age\"] # \"Fare\", \"Embarked\"\n",
    "\n",
    "X = pd.get_dummies(train_data[features])\n",
    "X_test = pd.get_dummies(test_data[features])\n",
    "\n",
    "# np.any(np.isnan(X_test))\n",
    "# np.isfinite(X_test.all())\n",
    "# Check for infinite values\n",
    "# print(np.any(~np.isfinite(X_test)))  # Should return False\n",
    "# misvals = X_test.isnull().sum()\n",
    "# print(misvals)\n",
    "\n",
    "clf = GradientBoostingClassifier( # 77.9% !! from 77.7%\n",
    "        n_estimators=400,\n",
    "        learning_rate=0.01,\n",
    "        max_depth=3,\n",
    "        min_samples_split=10,\n",
    "        min_samples_leaf=5,\n",
    "        max_features='sqrt',\n",
    "        subsample=1,\n",
    "        random_state=42\n",
    "    )\n",
    "clf.fit(X, y)\n",
    "\n",
    "predictions = clf.predict(X_test)\n",
    "\n",
    "# output = pd.DataFrame({'PassengerId': test_data.PassengerId, 'Survived': predictions})\n",
    "# output.to_csv('submission.csv', index=False)\n",
    "# print(\"submission written!\")"
   ]
  },
  {
   "cell_type": "code",
   "execution_count": 4,
   "id": "db21d1ee",
   "metadata": {
    "execution": {
     "iopub.execute_input": "2025-02-06T05:11:14.471577Z",
     "iopub.status.busy": "2025-02-06T05:11:14.471085Z",
     "iopub.status.idle": "2025-02-06T05:11:18.206181Z",
     "shell.execute_reply": "2025-02-06T05:11:18.204557Z"
    },
    "papermill": {
     "duration": 3.742692,
     "end_time": "2025-02-06T05:11:18.208206",
     "exception": false,
     "start_time": "2025-02-06T05:11:14.465514",
     "status": "completed"
    },
    "tags": []
   },
   "outputs": [
    {
     "name": "stdout",
     "output_type": "stream",
     "text": [
      "Fold: 0, Training Accuracy: 0.8564, Validation Accuracy: 0.7667\n",
      "Fold: 1, Training Accuracy: 0.8441, Validation Accuracy: 0.8090\n",
      "Fold: 2, Training Accuracy: 0.8504, Validation Accuracy: 0.7528\n",
      "Fold: 3, Training Accuracy: 0.8404, Validation Accuracy: 0.7753\n",
      "Fold: 4, Training Accuracy: 0.8516, Validation Accuracy: 0.8202\n",
      "Fold: 5, Training Accuracy: 0.8416, Validation Accuracy: 0.8427\n",
      "Fold: 6, Training Accuracy: 0.8404, Validation Accuracy: 0.8764\n",
      "Fold: 7, Training Accuracy: 0.8379, Validation Accuracy: 0.8427\n",
      "Fold: 8, Training Accuracy: 0.8429, Validation Accuracy: 0.8764\n",
      "Fold: 9, Training Accuracy: 0.8466, Validation Accuracy: 0.8202\n",
      "\n",
      "Average Training Accuracy: 0.8452\n",
      "Average Validation Accuracy: 0.8182\n"
     ]
    }
   ],
   "source": [
    "from sklearn.model_selection import KFold\n",
    "from sklearn.metrics import accuracy_score, mean_absolute_error\n",
    "from sklearn.ensemble import RandomForestClassifier, GradientBoostingClassifier\n",
    "\n",
    "y = train_data[\"Survived\"]\n",
    "features = [\"Pclass\", \"Sex\", \"family_size\", \"Age\", \"Fare\", \"Embarked\"]\n",
    "\n",
    "X = pd.get_dummies(train_data[features])\n",
    "X_test = pd.get_dummies(test_data[features])\n",
    "\n",
    "\n",
    "kf = KFold(n_splits=10, shuffle=True, random_state=1)\n",
    "kf.get_n_splits(X)\n",
    "\n",
    "# store accuracies\n",
    "train_accuracies = []\n",
    "val_accuracies = []\n",
    "\n",
    "for i, (train_index, test_index) in enumerate(kf.split(X, y)):\n",
    "    clf = GradientBoostingClassifier(\n",
    "        n_estimators=400,\n",
    "        learning_rate=0.01,\n",
    "        max_depth=3,\n",
    "        min_samples_split=10,\n",
    "        min_samples_leaf=5,\n",
    "        max_features='sqrt',\n",
    "        subsample=1,\n",
    "        random_state=42\n",
    "    )\n",
    "\n",
    "    clf.fit(X.iloc[train_index], y.iloc[train_index])\n",
    "    \n",
    "    # evaluate on the training set\n",
    "    y_train_pred = clf.predict(X.iloc[train_index])\n",
    "    train_accuracy = accuracy_score(y.iloc[train_index], y_train_pred)\n",
    "    train_accuracies.append(train_accuracy)\n",
    "    \n",
    "    # evaluate on the validation set\n",
    "    y_val_pred = clf.predict(X.iloc[test_index])\n",
    "    val_accuracy = accuracy_score(y.iloc[test_index], y_val_pred)\n",
    "    val_accuracies.append(val_accuracy)\n",
    "    \n",
    "    print(f\"Fold: {i}, Training Accuracy: {train_accuracy:.4f}, Validation Accuracy: {val_accuracy:.4f}\")\n",
    "\n",
    "print(f\"\\nAverage Training Accuracy: {sum(train_accuracies) / len(train_accuracies):.4f}\")\n",
    "print(f\"Average Validation Accuracy: {sum(val_accuracies) / len(val_accuracies):.4f}\")"
   ]
  },
  {
   "cell_type": "code",
   "execution_count": 5,
   "id": "54a06432",
   "metadata": {
    "execution": {
     "iopub.execute_input": "2025-02-06T05:11:18.216245Z",
     "iopub.status.busy": "2025-02-06T05:11:18.215913Z",
     "iopub.status.idle": "2025-02-06T05:11:18.277273Z",
     "shell.execute_reply": "2025-02-06T05:11:18.275741Z"
    },
    "papermill": {
     "duration": 0.067732,
     "end_time": "2025-02-06T05:11:18.279428",
     "exception": false,
     "start_time": "2025-02-06T05:11:18.211696",
     "status": "completed"
    },
    "tags": []
   },
   "outputs": [
    {
     "name": "stdout",
     "output_type": "stream",
     "text": [
      "Explained variance ratio: [0.978439   0.01416397 0.00379728 0.00181927 0.00118099]\n"
     ]
    }
   ],
   "source": [
    "# PCA\n",
    "from sklearn.decomposition import PCA\n",
    "\n",
    "X.to_numpy()\n",
    "y.to_numpy()\n",
    "X_test.to_numpy()\n",
    "\n",
    "pca = PCA(n_components=5, svd_solver='auto')\n",
    "pca.fit(X)\n",
    "pca\n",
    "\n",
    "print(\"Explained variance ratio:\", pca.explained_variance_ratio_)"
   ]
  },
  {
   "cell_type": "code",
   "execution_count": 6,
   "id": "d7b50a47",
   "metadata": {
    "execution": {
     "iopub.execute_input": "2025-02-06T05:11:18.288160Z",
     "iopub.status.busy": "2025-02-06T05:11:18.287777Z",
     "iopub.status.idle": "2025-02-06T05:11:18.303798Z",
     "shell.execute_reply": "2025-02-06T05:11:18.302467Z"
    },
    "papermill": {
     "duration": 0.022656,
     "end_time": "2025-02-06T05:11:18.305861",
     "exception": false,
     "start_time": "2025-02-06T05:11:18.283205",
     "status": "completed"
    },
    "tags": []
   },
   "outputs": [
    {
     "data": {
      "text/plain": [
       "((891, 5), (418, 5))"
      ]
     },
     "execution_count": 6,
     "metadata": {},
     "output_type": "execute_result"
    }
   ],
   "source": [
    "X_train_pca = pca.transform(X)\n",
    "X_test_pca = pca.transform(X_test)\n",
    "\n",
    "X_train_pca.shape, X_test_pca.shape"
   ]
  },
  {
   "cell_type": "code",
   "execution_count": 7,
   "id": "21447b52",
   "metadata": {
    "execution": {
     "iopub.execute_input": "2025-02-06T05:11:18.314869Z",
     "iopub.status.busy": "2025-02-06T05:11:18.314501Z",
     "iopub.status.idle": "2025-02-06T05:11:23.319192Z",
     "shell.execute_reply": "2025-02-06T05:11:23.317650Z"
    },
    "papermill": {
     "duration": 5.01151,
     "end_time": "2025-02-06T05:11:23.321345",
     "exception": false,
     "start_time": "2025-02-06T05:11:18.309835",
     "status": "completed"
    },
    "tags": []
   },
   "outputs": [
    {
     "name": "stdout",
     "output_type": "stream",
     "text": [
      "Fold: 0, Training Accuracy: 0.8677, Validation Accuracy: 0.7444\n",
      "Fold: 1, Training Accuracy: 0.8641, Validation Accuracy: 0.7978\n",
      "Fold: 2, Training Accuracy: 0.8616, Validation Accuracy: 0.7640\n",
      "Fold: 3, Training Accuracy: 0.8616, Validation Accuracy: 0.7640\n",
      "Fold: 4, Training Accuracy: 0.8603, Validation Accuracy: 0.8090\n",
      "Fold: 5, Training Accuracy: 0.8728, Validation Accuracy: 0.8427\n",
      "Fold: 6, Training Accuracy: 0.8529, Validation Accuracy: 0.8764\n",
      "Fold: 7, Training Accuracy: 0.8603, Validation Accuracy: 0.7978\n",
      "Fold: 8, Training Accuracy: 0.8541, Validation Accuracy: 0.8539\n",
      "Fold: 9, Training Accuracy: 0.8591, Validation Accuracy: 0.8315\n",
      "\n",
      "Average Training Accuracy: 0.8615\n",
      "Average Validation Accuracy: 0.8082\n"
     ]
    }
   ],
   "source": [
    "# Cross validate with PCA\n",
    "\n",
    "kf = KFold(n_splits=10, shuffle=True, random_state=1)\n",
    "kf.get_n_splits(X_train_pca)\n",
    "\n",
    "# store accuracies\n",
    "train_accuracies = []\n",
    "val_accuracies = []\n",
    "\n",
    "for i, (train_index, val_index) in enumerate(kf.split(X_train_pca, y)):\n",
    "    pca_clf = GradientBoostingClassifier(\n",
    "        n_estimators=400,\n",
    "        learning_rate=0.01,\n",
    "        max_depth=3,\n",
    "        min_samples_split=10,\n",
    "        min_samples_leaf=5,\n",
    "        max_features='sqrt',\n",
    "        subsample=1,\n",
    "        random_state=42\n",
    "    )\n",
    "\n",
    "    pca_clf.fit(X_train_pca[train_index], y.iloc[train_index])\n",
    "    \n",
    "    # evaluate on the training fold\n",
    "    y_train_pred = pca_clf.predict(X_train_pca[train_index])\n",
    "    train_accuracy = accuracy_score(y.iloc[train_index], y_train_pred)\n",
    "    train_accuracies.append(train_accuracy)\n",
    "    \n",
    "    # evaluate on the validation fold\n",
    "    y_val_pred = pca_clf.predict(X_train_pca[val_index])\n",
    "    val_accuracy = accuracy_score(y.iloc[val_index], y_val_pred)\n",
    "    val_accuracies.append(val_accuracy)\n",
    "    \n",
    "    print(f\"Fold: {i}, Training Accuracy: {train_accuracy:.4f}, Validation Accuracy: {val_accuracy:.4f}\")\n",
    "\n",
    "print(f\"\\nAverage Training Accuracy: {sum(train_accuracies) / len(train_accuracies):.4f}\")\n",
    "print(f\"Average Validation Accuracy: {sum(val_accuracies) / len(val_accuracies):.4f}\")"
   ]
  },
  {
   "cell_type": "code",
   "execution_count": null,
   "id": "22295209",
   "metadata": {
    "papermill": {
     "duration": 0.004437,
     "end_time": "2025-02-06T05:11:23.330533",
     "exception": false,
     "start_time": "2025-02-06T05:11:23.326096",
     "status": "completed"
    },
    "tags": []
   },
   "outputs": [],
   "source": []
  }
 ],
 "metadata": {
  "kaggle": {
   "accelerator": "none",
   "dataSources": [
    {
     "databundleVersionId": 26502,
     "sourceId": 3136,
     "sourceType": "competition"
    }
   ],
   "dockerImageVersionId": 30839,
   "isGpuEnabled": false,
   "isInternetEnabled": true,
   "language": "python",
   "sourceType": "notebook"
  },
  "kernelspec": {
   "display_name": "Python 3",
   "language": "python",
   "name": "python3"
  },
  "language_info": {
   "codemirror_mode": {
    "name": "ipython",
    "version": 3
   },
   "file_extension": ".py",
   "mimetype": "text/x-python",
   "name": "python",
   "nbconvert_exporter": "python",
   "pygments_lexer": "ipython3",
   "version": "3.10.12"
  },
  "papermill": {
   "default_parameters": {},
   "duration": 16.095931,
   "end_time": "2025-02-06T05:11:24.060302",
   "environment_variables": {},
   "exception": null,
   "input_path": "__notebook__.ipynb",
   "output_path": "__notebook__.ipynb",
   "parameters": {},
   "start_time": "2025-02-06T05:11:07.964371",
   "version": "2.6.0"
  }
 },
 "nbformat": 4,
 "nbformat_minor": 5
}
