{
 "cells": [
  {
   "cell_type": "code",
   "execution_count": 1,
   "id": "66474ae0",
   "metadata": {
    "_cell_guid": "b1076dfc-b9ad-4769-8c92-a6c4dae69d19",
    "_uuid": "8f2839f25d086af736a60e9eeb907d3b93b6e0e5",
    "execution": {
     "iopub.execute_input": "2025-02-03T00:24:22.348783Z",
     "iopub.status.busy": "2025-02-03T00:24:22.348265Z",
     "iopub.status.idle": "2025-02-03T00:24:23.648093Z",
     "shell.execute_reply": "2025-02-03T00:24:23.646008Z"
    },
    "papermill": {
     "duration": 1.309077,
     "end_time": "2025-02-03T00:24:23.650329",
     "exception": false,
     "start_time": "2025-02-03T00:24:22.341252",
     "status": "completed"
    },
    "tags": []
   },
   "outputs": [
    {
     "name": "stdout",
     "output_type": "stream",
     "text": [
      "/kaggle/input/titanic/train.csv\n",
      "/kaggle/input/titanic/test.csv\n",
      "/kaggle/input/titanic/gender_submission.csv\n"
     ]
    }
   ],
   "source": [
    "# This Python 3 environment comes with many helpful analytics libraries installed\n",
    "# It is defined by the kaggle/python Docker image: https://github.com/kaggle/docker-python\n",
    "# For example, here's several helpful packages to load\n",
    "\n",
    "import numpy as np # linear algebra\n",
    "import pandas as pd # data processing, CSV file I/O (e.g. pd.read_csv)\n",
    "\n",
    "# Input data files are available in the read-only \"../input/\" directory\n",
    "# For example, running this (by clicking run or pressing Shift+Enter) will list all files under the input directory\n",
    "\n",
    "import os\n",
    "for dirname, _, filenames in os.walk('/kaggle/input'):\n",
    "    for filename in filenames:\n",
    "        print(os.path.join(dirname, filename))\n",
    "\n",
    "# You can write up to 20GB to the current directory (/kaggle/working/) that gets preserved as output when you create a version using \"Save & Run All\" \n",
    "# You can also write temporary files to /kaggle/temp/, but they won't be saved outside of the current session"
   ]
  },
  {
   "cell_type": "markdown",
   "id": "ee480ce0",
   "metadata": {
    "papermill": {
     "duration": 0.004107,
     "end_time": "2025-02-03T00:24:23.659289",
     "exception": false,
     "start_time": "2025-02-03T00:24:23.655182",
     "status": "completed"
    },
    "tags": []
   },
   "source": [
    "## goal: we want to find patterns in train.csv that help us predict whether the passengers in test.csv survived."
   ]
  },
  {
   "cell_type": "code",
   "execution_count": 2,
   "id": "7206d274",
   "metadata": {
    "execution": {
     "iopub.execute_input": "2025-02-03T00:24:23.669239Z",
     "iopub.status.busy": "2025-02-03T00:24:23.668737Z",
     "iopub.status.idle": "2025-02-03T00:24:23.725225Z",
     "shell.execute_reply": "2025-02-03T00:24:23.724064Z"
    },
    "papermill": {
     "duration": 0.063551,
     "end_time": "2025-02-03T00:24:23.727097",
     "exception": false,
     "start_time": "2025-02-03T00:24:23.663546",
     "status": "completed"
    },
    "tags": []
   },
   "outputs": [
    {
     "data": {
      "text/html": [
       "<div>\n",
       "<style scoped>\n",
       "    .dataframe tbody tr th:only-of-type {\n",
       "        vertical-align: middle;\n",
       "    }\n",
       "\n",
       "    .dataframe tbody tr th {\n",
       "        vertical-align: top;\n",
       "    }\n",
       "\n",
       "    .dataframe thead th {\n",
       "        text-align: right;\n",
       "    }\n",
       "</style>\n",
       "<table border=\"1\" class=\"dataframe\">\n",
       "  <thead>\n",
       "    <tr style=\"text-align: right;\">\n",
       "      <th></th>\n",
       "      <th>PassengerId</th>\n",
       "      <th>Survived</th>\n",
       "      <th>Pclass</th>\n",
       "      <th>Name</th>\n",
       "      <th>Sex</th>\n",
       "      <th>Age</th>\n",
       "      <th>SibSp</th>\n",
       "      <th>Parch</th>\n",
       "      <th>Ticket</th>\n",
       "      <th>Fare</th>\n",
       "      <th>Cabin</th>\n",
       "      <th>Embarked</th>\n",
       "    </tr>\n",
       "  </thead>\n",
       "  <tbody>\n",
       "    <tr>\n",
       "      <th>0</th>\n",
       "      <td>1</td>\n",
       "      <td>0</td>\n",
       "      <td>3</td>\n",
       "      <td>Braund, Mr. Owen Harris</td>\n",
       "      <td>male</td>\n",
       "      <td>22.0</td>\n",
       "      <td>1</td>\n",
       "      <td>0</td>\n",
       "      <td>A/5 21171</td>\n",
       "      <td>7.2500</td>\n",
       "      <td>NaN</td>\n",
       "      <td>S</td>\n",
       "    </tr>\n",
       "    <tr>\n",
       "      <th>1</th>\n",
       "      <td>2</td>\n",
       "      <td>1</td>\n",
       "      <td>1</td>\n",
       "      <td>Cumings, Mrs. John Bradley (Florence Briggs Th...</td>\n",
       "      <td>female</td>\n",
       "      <td>38.0</td>\n",
       "      <td>1</td>\n",
       "      <td>0</td>\n",
       "      <td>PC 17599</td>\n",
       "      <td>71.2833</td>\n",
       "      <td>C85</td>\n",
       "      <td>C</td>\n",
       "    </tr>\n",
       "    <tr>\n",
       "      <th>2</th>\n",
       "      <td>3</td>\n",
       "      <td>1</td>\n",
       "      <td>3</td>\n",
       "      <td>Heikkinen, Miss. Laina</td>\n",
       "      <td>female</td>\n",
       "      <td>26.0</td>\n",
       "      <td>0</td>\n",
       "      <td>0</td>\n",
       "      <td>STON/O2. 3101282</td>\n",
       "      <td>7.9250</td>\n",
       "      <td>NaN</td>\n",
       "      <td>S</td>\n",
       "    </tr>\n",
       "    <tr>\n",
       "      <th>3</th>\n",
       "      <td>4</td>\n",
       "      <td>1</td>\n",
       "      <td>1</td>\n",
       "      <td>Futrelle, Mrs. Jacques Heath (Lily May Peel)</td>\n",
       "      <td>female</td>\n",
       "      <td>35.0</td>\n",
       "      <td>1</td>\n",
       "      <td>0</td>\n",
       "      <td>113803</td>\n",
       "      <td>53.1000</td>\n",
       "      <td>C123</td>\n",
       "      <td>S</td>\n",
       "    </tr>\n",
       "    <tr>\n",
       "      <th>4</th>\n",
       "      <td>5</td>\n",
       "      <td>0</td>\n",
       "      <td>3</td>\n",
       "      <td>Allen, Mr. William Henry</td>\n",
       "      <td>male</td>\n",
       "      <td>35.0</td>\n",
       "      <td>0</td>\n",
       "      <td>0</td>\n",
       "      <td>373450</td>\n",
       "      <td>8.0500</td>\n",
       "      <td>NaN</td>\n",
       "      <td>S</td>\n",
       "    </tr>\n",
       "  </tbody>\n",
       "</table>\n",
       "</div>"
      ],
      "text/plain": [
       "   PassengerId  Survived  Pclass  \\\n",
       "0            1         0       3   \n",
       "1            2         1       1   \n",
       "2            3         1       3   \n",
       "3            4         1       1   \n",
       "4            5         0       3   \n",
       "\n",
       "                                                Name     Sex   Age  SibSp  \\\n",
       "0                            Braund, Mr. Owen Harris    male  22.0      1   \n",
       "1  Cumings, Mrs. John Bradley (Florence Briggs Th...  female  38.0      1   \n",
       "2                             Heikkinen, Miss. Laina  female  26.0      0   \n",
       "3       Futrelle, Mrs. Jacques Heath (Lily May Peel)  female  35.0      1   \n",
       "4                           Allen, Mr. William Henry    male  35.0      0   \n",
       "\n",
       "   Parch            Ticket     Fare Cabin Embarked  \n",
       "0      0         A/5 21171   7.2500   NaN        S  \n",
       "1      0          PC 17599  71.2833   C85        C  \n",
       "2      0  STON/O2. 3101282   7.9250   NaN        S  \n",
       "3      0            113803  53.1000  C123        S  \n",
       "4      0            373450   8.0500   NaN        S  "
      ]
     },
     "execution_count": 2,
     "metadata": {},
     "output_type": "execute_result"
    }
   ],
   "source": [
    "train_data = pd.read_csv(\"/kaggle/input/titanic/train.csv\")\n",
    "train_data.head()"
   ]
  },
  {
   "cell_type": "code",
   "execution_count": 3,
   "id": "4fad7909",
   "metadata": {
    "execution": {
     "iopub.execute_input": "2025-02-03T00:24:23.738196Z",
     "iopub.status.busy": "2025-02-03T00:24:23.737850Z",
     "iopub.status.idle": "2025-02-03T00:24:23.757700Z",
     "shell.execute_reply": "2025-02-03T00:24:23.756632Z"
    },
    "jupyter": {
     "source_hidden": true
    },
    "papermill": {
     "duration": 0.027204,
     "end_time": "2025-02-03T00:24:23.759357",
     "exception": false,
     "start_time": "2025-02-03T00:24:23.732153",
     "status": "completed"
    },
    "tags": []
   },
   "outputs": [
    {
     "data": {
      "text/html": [
       "<div>\n",
       "<style scoped>\n",
       "    .dataframe tbody tr th:only-of-type {\n",
       "        vertical-align: middle;\n",
       "    }\n",
       "\n",
       "    .dataframe tbody tr th {\n",
       "        vertical-align: top;\n",
       "    }\n",
       "\n",
       "    .dataframe thead th {\n",
       "        text-align: right;\n",
       "    }\n",
       "</style>\n",
       "<table border=\"1\" class=\"dataframe\">\n",
       "  <thead>\n",
       "    <tr style=\"text-align: right;\">\n",
       "      <th></th>\n",
       "      <th>PassengerId</th>\n",
       "      <th>Pclass</th>\n",
       "      <th>Name</th>\n",
       "      <th>Sex</th>\n",
       "      <th>Age</th>\n",
       "      <th>SibSp</th>\n",
       "      <th>Parch</th>\n",
       "      <th>Ticket</th>\n",
       "      <th>Fare</th>\n",
       "      <th>Cabin</th>\n",
       "      <th>Embarked</th>\n",
       "    </tr>\n",
       "  </thead>\n",
       "  <tbody>\n",
       "    <tr>\n",
       "      <th>0</th>\n",
       "      <td>892</td>\n",
       "      <td>3</td>\n",
       "      <td>Kelly, Mr. James</td>\n",
       "      <td>male</td>\n",
       "      <td>34.5</td>\n",
       "      <td>0</td>\n",
       "      <td>0</td>\n",
       "      <td>330911</td>\n",
       "      <td>7.8292</td>\n",
       "      <td>NaN</td>\n",
       "      <td>Q</td>\n",
       "    </tr>\n",
       "    <tr>\n",
       "      <th>1</th>\n",
       "      <td>893</td>\n",
       "      <td>3</td>\n",
       "      <td>Wilkes, Mrs. James (Ellen Needs)</td>\n",
       "      <td>female</td>\n",
       "      <td>47.0</td>\n",
       "      <td>1</td>\n",
       "      <td>0</td>\n",
       "      <td>363272</td>\n",
       "      <td>7.0000</td>\n",
       "      <td>NaN</td>\n",
       "      <td>S</td>\n",
       "    </tr>\n",
       "    <tr>\n",
       "      <th>2</th>\n",
       "      <td>894</td>\n",
       "      <td>2</td>\n",
       "      <td>Myles, Mr. Thomas Francis</td>\n",
       "      <td>male</td>\n",
       "      <td>62.0</td>\n",
       "      <td>0</td>\n",
       "      <td>0</td>\n",
       "      <td>240276</td>\n",
       "      <td>9.6875</td>\n",
       "      <td>NaN</td>\n",
       "      <td>Q</td>\n",
       "    </tr>\n",
       "    <tr>\n",
       "      <th>3</th>\n",
       "      <td>895</td>\n",
       "      <td>3</td>\n",
       "      <td>Wirz, Mr. Albert</td>\n",
       "      <td>male</td>\n",
       "      <td>27.0</td>\n",
       "      <td>0</td>\n",
       "      <td>0</td>\n",
       "      <td>315154</td>\n",
       "      <td>8.6625</td>\n",
       "      <td>NaN</td>\n",
       "      <td>S</td>\n",
       "    </tr>\n",
       "    <tr>\n",
       "      <th>4</th>\n",
       "      <td>896</td>\n",
       "      <td>3</td>\n",
       "      <td>Hirvonen, Mrs. Alexander (Helga E Lindqvist)</td>\n",
       "      <td>female</td>\n",
       "      <td>22.0</td>\n",
       "      <td>1</td>\n",
       "      <td>1</td>\n",
       "      <td>3101298</td>\n",
       "      <td>12.2875</td>\n",
       "      <td>NaN</td>\n",
       "      <td>S</td>\n",
       "    </tr>\n",
       "  </tbody>\n",
       "</table>\n",
       "</div>"
      ],
      "text/plain": [
       "   PassengerId  Pclass                                          Name     Sex  \\\n",
       "0          892       3                              Kelly, Mr. James    male   \n",
       "1          893       3              Wilkes, Mrs. James (Ellen Needs)  female   \n",
       "2          894       2                     Myles, Mr. Thomas Francis    male   \n",
       "3          895       3                              Wirz, Mr. Albert    male   \n",
       "4          896       3  Hirvonen, Mrs. Alexander (Helga E Lindqvist)  female   \n",
       "\n",
       "    Age  SibSp  Parch   Ticket     Fare Cabin Embarked  \n",
       "0  34.5      0      0   330911   7.8292   NaN        Q  \n",
       "1  47.0      1      0   363272   7.0000   NaN        S  \n",
       "2  62.0      0      0   240276   9.6875   NaN        Q  \n",
       "3  27.0      0      0   315154   8.6625   NaN        S  \n",
       "4  22.0      1      1  3101298  12.2875   NaN        S  "
      ]
     },
     "execution_count": 3,
     "metadata": {},
     "output_type": "execute_result"
    }
   ],
   "source": [
    "test_data = pd.read_csv(\"/kaggle/input/titanic/test.csv\")\n",
    "test_data.head()"
   ]
  },
  {
   "cell_type": "code",
   "execution_count": 4,
   "id": "bb2cae71",
   "metadata": {
    "execution": {
     "iopub.execute_input": "2025-02-03T00:24:23.771284Z",
     "iopub.status.busy": "2025-02-03T00:24:23.770920Z",
     "iopub.status.idle": "2025-02-03T00:24:23.785238Z",
     "shell.execute_reply": "2025-02-03T00:24:23.784138Z"
    },
    "jupyter": {
     "source_hidden": true
    },
    "papermill": {
     "duration": 0.022781,
     "end_time": "2025-02-03T00:24:23.787109",
     "exception": false,
     "start_time": "2025-02-03T00:24:23.764328",
     "status": "completed"
    },
    "tags": []
   },
   "outputs": [
    {
     "data": {
      "text/html": [
       "<div>\n",
       "<style scoped>\n",
       "    .dataframe tbody tr th:only-of-type {\n",
       "        vertical-align: middle;\n",
       "    }\n",
       "\n",
       "    .dataframe tbody tr th {\n",
       "        vertical-align: top;\n",
       "    }\n",
       "\n",
       "    .dataframe thead th {\n",
       "        text-align: right;\n",
       "    }\n",
       "</style>\n",
       "<table border=\"1\" class=\"dataframe\">\n",
       "  <thead>\n",
       "    <tr style=\"text-align: right;\">\n",
       "      <th></th>\n",
       "      <th>PassengerId</th>\n",
       "      <th>Survived</th>\n",
       "    </tr>\n",
       "  </thead>\n",
       "  <tbody>\n",
       "    <tr>\n",
       "      <th>0</th>\n",
       "      <td>892</td>\n",
       "      <td>0</td>\n",
       "    </tr>\n",
       "    <tr>\n",
       "      <th>1</th>\n",
       "      <td>893</td>\n",
       "      <td>1</td>\n",
       "    </tr>\n",
       "    <tr>\n",
       "      <th>2</th>\n",
       "      <td>894</td>\n",
       "      <td>0</td>\n",
       "    </tr>\n",
       "    <tr>\n",
       "      <th>3</th>\n",
       "      <td>895</td>\n",
       "      <td>0</td>\n",
       "    </tr>\n",
       "    <tr>\n",
       "      <th>4</th>\n",
       "      <td>896</td>\n",
       "      <td>1</td>\n",
       "    </tr>\n",
       "  </tbody>\n",
       "</table>\n",
       "</div>"
      ],
      "text/plain": [
       "   PassengerId  Survived\n",
       "0          892         0\n",
       "1          893         1\n",
       "2          894         0\n",
       "3          895         0\n",
       "4          896         1"
      ]
     },
     "execution_count": 4,
     "metadata": {},
     "output_type": "execute_result"
    }
   ],
   "source": [
    "gender_data = pd.read_csv(\"/kaggle/input/titanic/gender_submission.csv\")\n",
    "gender_data.head()"
   ]
  },
  {
   "cell_type": "code",
   "execution_count": 5,
   "id": "763c31b2",
   "metadata": {
    "execution": {
     "iopub.execute_input": "2025-02-03T00:24:23.798610Z",
     "iopub.status.busy": "2025-02-03T00:24:23.798203Z",
     "iopub.status.idle": "2025-02-03T00:24:23.812954Z",
     "shell.execute_reply": "2025-02-03T00:24:23.811532Z"
    },
    "papermill": {
     "duration": 0.022315,
     "end_time": "2025-02-03T00:24:23.814777",
     "exception": false,
     "start_time": "2025-02-03T00:24:23.792462",
     "status": "completed"
    },
    "tags": []
   },
   "outputs": [
    {
     "name": "stdout",
     "output_type": "stream",
     "text": [
      "PassengerId      0\n",
      "Survived         0\n",
      "Pclass           0\n",
      "Name             0\n",
      "Sex              0\n",
      "Age            177\n",
      "SibSp            0\n",
      "Parch            0\n",
      "Ticket           0\n",
      "Fare             0\n",
      "Cabin          687\n",
      "Embarked         2\n",
      "dtype: int64\n"
     ]
    }
   ],
   "source": [
    "count_missing_vals = train_data.isnull().sum()\n",
    "print(count_missing_vals)"
   ]
  },
  {
   "cell_type": "code",
   "execution_count": 6,
   "id": "3f0dba7e",
   "metadata": {
    "execution": {
     "iopub.execute_input": "2025-02-03T00:24:23.826174Z",
     "iopub.status.busy": "2025-02-03T00:24:23.825823Z",
     "iopub.status.idle": "2025-02-03T00:24:23.831615Z",
     "shell.execute_reply": "2025-02-03T00:24:23.830541Z"
    },
    "papermill": {
     "duration": 0.013323,
     "end_time": "2025-02-03T00:24:23.833257",
     "exception": false,
     "start_time": "2025-02-03T00:24:23.819934",
     "status": "completed"
    },
    "tags": []
   },
   "outputs": [],
   "source": [
    "mean_age = round(train_data[\"Age\"].mean())\n",
    "train_data.fillna({\"Age\": mean_age}, inplace=True)"
   ]
  },
  {
   "cell_type": "code",
   "execution_count": 7,
   "id": "c461d63d",
   "metadata": {
    "execution": {
     "iopub.execute_input": "2025-02-03T00:24:23.844733Z",
     "iopub.status.busy": "2025-02-03T00:24:23.844347Z",
     "iopub.status.idle": "2025-02-03T00:24:23.850857Z",
     "shell.execute_reply": "2025-02-03T00:24:23.849849Z"
    },
    "papermill": {
     "duration": 0.013992,
     "end_time": "2025-02-03T00:24:23.852524",
     "exception": false,
     "start_time": "2025-02-03T00:24:23.838532",
     "status": "completed"
    },
    "tags": []
   },
   "outputs": [
    {
     "data": {
      "text/plain": [
       "0"
      ]
     },
     "execution_count": 7,
     "metadata": {},
     "output_type": "execute_result"
    }
   ],
   "source": [
    "train_data[\"Age\"].isnull().sum()"
   ]
  },
  {
   "cell_type": "code",
   "execution_count": 8,
   "id": "c036e52e",
   "metadata": {
    "execution": {
     "iopub.execute_input": "2025-02-03T00:24:23.864851Z",
     "iopub.status.busy": "2025-02-03T00:24:23.864484Z",
     "iopub.status.idle": "2025-02-03T00:24:23.903027Z",
     "shell.execute_reply": "2025-02-03T00:24:23.901392Z"
    },
    "papermill": {
     "duration": 0.047019,
     "end_time": "2025-02-03T00:24:23.905050",
     "exception": false,
     "start_time": "2025-02-03T00:24:23.858031",
     "status": "completed"
    },
    "tags": []
   },
   "outputs": [
    {
     "data": {
      "text/html": [
       "<div>\n",
       "<style scoped>\n",
       "    .dataframe tbody tr th:only-of-type {\n",
       "        vertical-align: middle;\n",
       "    }\n",
       "\n",
       "    .dataframe tbody tr th {\n",
       "        vertical-align: top;\n",
       "    }\n",
       "\n",
       "    .dataframe thead th {\n",
       "        text-align: right;\n",
       "    }\n",
       "</style>\n",
       "<table border=\"1\" class=\"dataframe\">\n",
       "  <thead>\n",
       "    <tr style=\"text-align: right;\">\n",
       "      <th></th>\n",
       "      <th>PassengerId</th>\n",
       "      <th>Survived</th>\n",
       "      <th>Pclass</th>\n",
       "      <th>Age</th>\n",
       "      <th>SibSp</th>\n",
       "      <th>Parch</th>\n",
       "      <th>Fare</th>\n",
       "    </tr>\n",
       "  </thead>\n",
       "  <tbody>\n",
       "    <tr>\n",
       "      <th>count</th>\n",
       "      <td>891.000000</td>\n",
       "      <td>891.000000</td>\n",
       "      <td>891.000000</td>\n",
       "      <td>891.000000</td>\n",
       "      <td>891.000000</td>\n",
       "      <td>891.000000</td>\n",
       "      <td>891.000000</td>\n",
       "    </tr>\n",
       "    <tr>\n",
       "      <th>mean</th>\n",
       "      <td>446.000000</td>\n",
       "      <td>0.383838</td>\n",
       "      <td>2.308642</td>\n",
       "      <td>29.758889</td>\n",
       "      <td>0.523008</td>\n",
       "      <td>0.381594</td>\n",
       "      <td>32.204208</td>\n",
       "    </tr>\n",
       "    <tr>\n",
       "      <th>std</th>\n",
       "      <td>257.353842</td>\n",
       "      <td>0.486592</td>\n",
       "      <td>0.836071</td>\n",
       "      <td>13.002570</td>\n",
       "      <td>1.102743</td>\n",
       "      <td>0.806057</td>\n",
       "      <td>49.693429</td>\n",
       "    </tr>\n",
       "    <tr>\n",
       "      <th>min</th>\n",
       "      <td>1.000000</td>\n",
       "      <td>0.000000</td>\n",
       "      <td>1.000000</td>\n",
       "      <td>0.420000</td>\n",
       "      <td>0.000000</td>\n",
       "      <td>0.000000</td>\n",
       "      <td>0.000000</td>\n",
       "    </tr>\n",
       "    <tr>\n",
       "      <th>25%</th>\n",
       "      <td>223.500000</td>\n",
       "      <td>0.000000</td>\n",
       "      <td>2.000000</td>\n",
       "      <td>22.000000</td>\n",
       "      <td>0.000000</td>\n",
       "      <td>0.000000</td>\n",
       "      <td>7.910400</td>\n",
       "    </tr>\n",
       "    <tr>\n",
       "      <th>50%</th>\n",
       "      <td>446.000000</td>\n",
       "      <td>0.000000</td>\n",
       "      <td>3.000000</td>\n",
       "      <td>30.000000</td>\n",
       "      <td>0.000000</td>\n",
       "      <td>0.000000</td>\n",
       "      <td>14.454200</td>\n",
       "    </tr>\n",
       "    <tr>\n",
       "      <th>75%</th>\n",
       "      <td>668.500000</td>\n",
       "      <td>1.000000</td>\n",
       "      <td>3.000000</td>\n",
       "      <td>35.000000</td>\n",
       "      <td>1.000000</td>\n",
       "      <td>0.000000</td>\n",
       "      <td>31.000000</td>\n",
       "    </tr>\n",
       "    <tr>\n",
       "      <th>max</th>\n",
       "      <td>891.000000</td>\n",
       "      <td>1.000000</td>\n",
       "      <td>3.000000</td>\n",
       "      <td>80.000000</td>\n",
       "      <td>8.000000</td>\n",
       "      <td>6.000000</td>\n",
       "      <td>512.329200</td>\n",
       "    </tr>\n",
       "  </tbody>\n",
       "</table>\n",
       "</div>"
      ],
      "text/plain": [
       "       PassengerId    Survived      Pclass         Age       SibSp  \\\n",
       "count   891.000000  891.000000  891.000000  891.000000  891.000000   \n",
       "mean    446.000000    0.383838    2.308642   29.758889    0.523008   \n",
       "std     257.353842    0.486592    0.836071   13.002570    1.102743   \n",
       "min       1.000000    0.000000    1.000000    0.420000    0.000000   \n",
       "25%     223.500000    0.000000    2.000000   22.000000    0.000000   \n",
       "50%     446.000000    0.000000    3.000000   30.000000    0.000000   \n",
       "75%     668.500000    1.000000    3.000000   35.000000    1.000000   \n",
       "max     891.000000    1.000000    3.000000   80.000000    8.000000   \n",
       "\n",
       "            Parch        Fare  \n",
       "count  891.000000  891.000000  \n",
       "mean     0.381594   32.204208  \n",
       "std      0.806057   49.693429  \n",
       "min      0.000000    0.000000  \n",
       "25%      0.000000    7.910400  \n",
       "50%      0.000000   14.454200  \n",
       "75%      0.000000   31.000000  \n",
       "max      6.000000  512.329200  "
      ]
     },
     "execution_count": 8,
     "metadata": {},
     "output_type": "execute_result"
    }
   ],
   "source": [
    "train_data.describe()"
   ]
  },
  {
   "cell_type": "code",
   "execution_count": 9,
   "id": "d273fcd2",
   "metadata": {
    "execution": {
     "iopub.execute_input": "2025-02-03T00:24:23.917161Z",
     "iopub.status.busy": "2025-02-03T00:24:23.916846Z",
     "iopub.status.idle": "2025-02-03T00:24:23.934663Z",
     "shell.execute_reply": "2025-02-03T00:24:23.933509Z"
    },
    "papermill": {
     "duration": 0.025944,
     "end_time": "2025-02-03T00:24:23.936611",
     "exception": false,
     "start_time": "2025-02-03T00:24:23.910667",
     "status": "completed"
    },
    "tags": []
   },
   "outputs": [
    {
     "data": {
      "text/html": [
       "<div>\n",
       "<style scoped>\n",
       "    .dataframe tbody tr th:only-of-type {\n",
       "        vertical-align: middle;\n",
       "    }\n",
       "\n",
       "    .dataframe tbody tr th {\n",
       "        vertical-align: top;\n",
       "    }\n",
       "\n",
       "    .dataframe thead th {\n",
       "        text-align: right;\n",
       "    }\n",
       "</style>\n",
       "<table border=\"1\" class=\"dataframe\">\n",
       "  <thead>\n",
       "    <tr style=\"text-align: right;\">\n",
       "      <th></th>\n",
       "      <th>PassengerId</th>\n",
       "      <th>Survived</th>\n",
       "      <th>Pclass</th>\n",
       "      <th>Age</th>\n",
       "      <th>SibSp</th>\n",
       "      <th>Parch</th>\n",
       "      <th>Fare</th>\n",
       "    </tr>\n",
       "  </thead>\n",
       "  <tbody>\n",
       "    <tr>\n",
       "      <th>PassengerId</th>\n",
       "      <td>1.000000</td>\n",
       "      <td>-0.005007</td>\n",
       "      <td>-0.035144</td>\n",
       "      <td>0.033019</td>\n",
       "      <td>-0.057527</td>\n",
       "      <td>-0.001652</td>\n",
       "      <td>0.012658</td>\n",
       "    </tr>\n",
       "    <tr>\n",
       "      <th>Survived</th>\n",
       "      <td>-0.005007</td>\n",
       "      <td>1.000000</td>\n",
       "      <td>-0.338481</td>\n",
       "      <td>-0.070657</td>\n",
       "      <td>-0.035322</td>\n",
       "      <td>0.081629</td>\n",
       "      <td>0.257307</td>\n",
       "    </tr>\n",
       "    <tr>\n",
       "      <th>Pclass</th>\n",
       "      <td>-0.035144</td>\n",
       "      <td>-0.338481</td>\n",
       "      <td>1.000000</td>\n",
       "      <td>-0.329727</td>\n",
       "      <td>0.083081</td>\n",
       "      <td>0.018443</td>\n",
       "      <td>-0.549500</td>\n",
       "    </tr>\n",
       "    <tr>\n",
       "      <th>Age</th>\n",
       "      <td>0.033019</td>\n",
       "      <td>-0.070657</td>\n",
       "      <td>-0.329727</td>\n",
       "      <td>1.000000</td>\n",
       "      <td>-0.232440</td>\n",
       "      <td>-0.180330</td>\n",
       "      <td>0.090632</td>\n",
       "    </tr>\n",
       "    <tr>\n",
       "      <th>SibSp</th>\n",
       "      <td>-0.057527</td>\n",
       "      <td>-0.035322</td>\n",
       "      <td>0.083081</td>\n",
       "      <td>-0.232440</td>\n",
       "      <td>1.000000</td>\n",
       "      <td>0.414838</td>\n",
       "      <td>0.159651</td>\n",
       "    </tr>\n",
       "    <tr>\n",
       "      <th>Parch</th>\n",
       "      <td>-0.001652</td>\n",
       "      <td>0.081629</td>\n",
       "      <td>0.018443</td>\n",
       "      <td>-0.180330</td>\n",
       "      <td>0.414838</td>\n",
       "      <td>1.000000</td>\n",
       "      <td>0.216225</td>\n",
       "    </tr>\n",
       "    <tr>\n",
       "      <th>Fare</th>\n",
       "      <td>0.012658</td>\n",
       "      <td>0.257307</td>\n",
       "      <td>-0.549500</td>\n",
       "      <td>0.090632</td>\n",
       "      <td>0.159651</td>\n",
       "      <td>0.216225</td>\n",
       "      <td>1.000000</td>\n",
       "    </tr>\n",
       "  </tbody>\n",
       "</table>\n",
       "</div>"
      ],
      "text/plain": [
       "             PassengerId  Survived    Pclass       Age     SibSp     Parch  \\\n",
       "PassengerId     1.000000 -0.005007 -0.035144  0.033019 -0.057527 -0.001652   \n",
       "Survived       -0.005007  1.000000 -0.338481 -0.070657 -0.035322  0.081629   \n",
       "Pclass         -0.035144 -0.338481  1.000000 -0.329727  0.083081  0.018443   \n",
       "Age             0.033019 -0.070657 -0.329727  1.000000 -0.232440 -0.180330   \n",
       "SibSp          -0.057527 -0.035322  0.083081 -0.232440  1.000000  0.414838   \n",
       "Parch          -0.001652  0.081629  0.018443 -0.180330  0.414838  1.000000   \n",
       "Fare            0.012658  0.257307 -0.549500  0.090632  0.159651  0.216225   \n",
       "\n",
       "                 Fare  \n",
       "PassengerId  0.012658  \n",
       "Survived     0.257307  \n",
       "Pclass      -0.549500  \n",
       "Age          0.090632  \n",
       "SibSp        0.159651  \n",
       "Parch        0.216225  \n",
       "Fare         1.000000  "
      ]
     },
     "execution_count": 9,
     "metadata": {},
     "output_type": "execute_result"
    }
   ],
   "source": [
    "# filter train_data for numeric values to conduct numeric data analysis\n",
    "num_train_data = train_data.select_dtypes(include=['number'])\n",
    "train_corr_matrix = num_train_data.corr()\n",
    "train_corr_matrix"
   ]
  },
  {
   "cell_type": "code",
   "execution_count": 10,
   "id": "6634e75e",
   "metadata": {
    "execution": {
     "iopub.execute_input": "2025-02-03T00:24:23.949001Z",
     "iopub.status.busy": "2025-02-03T00:24:23.948627Z",
     "iopub.status.idle": "2025-02-03T00:24:26.958777Z",
     "shell.execute_reply": "2025-02-03T00:24:26.957459Z"
    },
    "papermill": {
     "duration": 3.018376,
     "end_time": "2025-02-03T00:24:26.960692",
     "exception": false,
     "start_time": "2025-02-03T00:24:23.942316",
     "status": "completed"
    },
    "tags": []
   },
   "outputs": [
    {
     "data": {
      "text/plain": [
       "<seaborn.matrix.ClusterGrid at 0x7b9897ee4610>"
      ]
     },
     "execution_count": 10,
     "metadata": {},
     "output_type": "execute_result"
    },
    {
     "data": {
      "image/png": "[encoded data removed]",
      "text/plain": [
       "<Figure size 500x500 with 4 Axes>"
      ]
     },
     "metadata": {},
     "output_type": "display_data"
    }
   ],
   "source": [
    "import seaborn as sns\n",
    "import matplotlib.pyplot as plt\n",
    "\n",
    "mask = np.triu(np.ones_like(train_corr_matrix))\n",
    "sns.clustermap(train_corr_matrix,\n",
    "               annot=True,\n",
    "              fmt='.2f',\n",
    "              figsize=(5,5))"
   ]
  },
  {
   "cell_type": "code",
   "execution_count": 11,
   "id": "6d388b15",
   "metadata": {
    "execution": {
     "iopub.execute_input": "2025-02-03T00:24:26.976425Z",
     "iopub.status.busy": "2025-02-03T00:24:26.975849Z",
     "iopub.status.idle": "2025-02-03T00:24:27.705089Z",
     "shell.execute_reply": "2025-02-03T00:24:27.704024Z"
    },
    "papermill": {
     "duration": 0.739108,
     "end_time": "2025-02-03T00:24:27.707083",
     "exception": false,
     "start_time": "2025-02-03T00:24:26.967975",
     "status": "completed"
    },
    "tags": []
   },
   "outputs": [],
   "source": [
    "# begin ML trying with SVM Classification first\n",
    "from sklearn import svm\n",
    "\n",
    "# 77.5% accurary \n",
    "train_data[\"family_size\"] = train_data[\"SibSp\"] + train_data[\"Parch\"]\n",
    "test_data[\"family_size\"] = test_data[\"SibSp\"] + test_data[\"Parch\"]\n",
    "\n",
    "y = train_data[\"Survived\"]\n",
    "features = [\"Pclass\", \"Sex\", \"family_size\"]\n",
    "\n",
    "X = pd.get_dummies(train_data[features])\n",
    "X_test = pd.get_dummies(test_data[features])\n",
    "\n",
    "clf = svm.SVC(C=1.0, kernel='rbf', random_state=42)\n",
    "clf.fit(X, y)\n",
    "\n",
    "predictions = clf.predict(X_test)\n",
    "\n",
    "output = pd.DataFrame({'PassengerId': test_data.PassengerId, 'Survived': predictions})\n",
    "output.to_csv('submission.csv', index=False)"
   ]
  },
  {
   "cell_type": "code",
   "execution_count": 12,
   "id": "92edb1f3",
   "metadata": {
    "execution": {
     "iopub.execute_input": "2025-02-03T00:24:27.731366Z",
     "iopub.status.busy": "2025-02-03T00:24:27.730784Z",
     "iopub.status.idle": "2025-02-03T00:24:27.735715Z",
     "shell.execute_reply": "2025-02-03T00:24:27.734300Z"
    },
    "papermill": {
     "duration": 0.018963,
     "end_time": "2025-02-03T00:24:27.737782",
     "exception": false,
     "start_time": "2025-02-03T00:24:27.718819",
     "status": "completed"
    },
    "tags": []
   },
   "outputs": [],
   "source": [
    "# now try\n",
    "# adding different features\n",
    "# scaling all features\n",
    "# using different kernels\n",
    "# grid search for best hyperparameters\n",
    "# try random forest and/or XGBoost"
   ]
  },
  {
   "cell_type": "code",
   "execution_count": 13,
   "id": "2a5efb4d",
   "metadata": {
    "execution": {
     "iopub.execute_input": "2025-02-03T00:24:27.762177Z",
     "iopub.status.busy": "2025-02-03T00:24:27.761718Z",
     "iopub.status.idle": "2025-02-03T00:24:27.907554Z",
     "shell.execute_reply": "2025-02-03T00:24:27.906359Z"
    },
    "papermill": {
     "duration": 0.161517,
     "end_time": "2025-02-03T00:24:27.909794",
     "exception": false,
     "start_time": "2025-02-03T00:24:27.748277",
     "status": "completed"
    },
    "tags": []
   },
   "outputs": [
    {
     "name": "stdout",
     "output_type": "stream",
     "text": [
      "Fold: 0, accuracy: 0.7821229050279329\n",
      "Fold: 1, accuracy: 0.7415730337078652\n",
      "Fold: 2, accuracy: 0.8202247191011236\n",
      "Fold: 3, accuracy: 0.8595505617977528\n",
      "Fold: 4, accuracy: 0.8146067415730337\n"
     ]
    }
   ],
   "source": [
    "# add a feature called \"family_size\" (siblings + parents)\n",
    "# and add kfold cross validation\n",
    "from sklearn.model_selection import KFold\n",
    "from sklearn.metrics import accuracy_score\n",
    "from sklearn.model_selection import GridSearchCV\n",
    "\n",
    "train_data[\"family_size\"] = train_data[\"SibSp\"] + train_data[\"Parch\"]\n",
    "test_data[\"family_size\"] = test_data[\"SibSp\"] + test_data[\"Parch\"]\n",
    "\n",
    "y = train_data[\"Survived\"]\n",
    "features = [\"Pclass\", \"Sex\", \"family_size\"]\n",
    "\n",
    "X = pd.get_dummies(train_data[features])\n",
    "X_test = pd.get_dummies(test_data[features])\n",
    "\n",
    "\n",
    "kf = KFold(n_splits=5, shuffle=True, random_state=1) # 83->85% accuracy\n",
    "kf.get_n_splits(X)\n",
    "\n",
    "for i, (train_index, test_index) in enumerate(kf.split(X, y)):\n",
    "    # print(f\"Fold: {i}\")\n",
    "    # print(f\"Train index={train_index}\")\n",
    "    # print(f\"Test index={test_index}\")\n",
    "\n",
    "    # use iloc or else KeyError\n",
    "    clf = svm.SVC(C=1.0, kernel='rbf', random_state=42)\n",
    "    clf.fit(X.iloc[train_index], y.iloc[train_index]) # train on subset\n",
    "    \n",
    "    y_pred = clf.predict(X.iloc[test_index]) # validate \n",
    "    accuracy = accuracy_score(y.iloc[test_index], y_pred)\n",
    "\n",
    "    print(f\"Fold: {i}, accuracy: {accuracy}\")\n"
   ]
  },
  {
   "cell_type": "code",
   "execution_count": 14,
   "id": "8c1e5eae",
   "metadata": {
    "execution": {
     "iopub.execute_input": "2025-02-03T00:24:27.932851Z",
     "iopub.status.busy": "2025-02-03T00:24:27.932051Z",
     "iopub.status.idle": "2025-02-03T00:24:28.252191Z",
     "shell.execute_reply": "2025-02-03T00:24:28.250928Z"
    },
    "papermill": {
     "duration": 0.333419,
     "end_time": "2025-02-03T00:24:28.254594",
     "exception": false,
     "start_time": "2025-02-03T00:24:27.921175",
     "status": "completed"
    },
    "tags": []
   },
   "outputs": [
    {
     "name": "stdout",
     "output_type": "stream",
     "text": [
      "Split n°:  0\n",
      "Split n°:  1\n",
      "Split n°:  2\n",
      "Split n°:  3\n",
      "Split n°:  4\n"
     ]
    }
   ],
   "source": [
    "from sklearn.metrics import precision_score, accuracy_score, f1_score, recall_score\n",
    "# Access the training and validation indices of splits\n",
    "kfold_accuracy = {}\n",
    "kfold_precision = {}\n",
    "kfold_f = {}\n",
    "kfold_recall = {}\n",
    "\n",
    "train_data[\"family_size\"] = train_data[\"SibSp\"] + train_data[\"Parch\"]\n",
    "test_data[\"family_size\"] = test_data[\"SibSp\"] + test_data[\"Parch\"]\n",
    "\n",
    "y = train_data[\"Survived\"]\n",
    "features = [\"Pclass\", \"Sex\", \"family_size\"]\n",
    "\n",
    "X = pd.get_dummies(train_data[features])\n",
    "X_test = pd.get_dummies(test_data[features])\n",
    "\n",
    "kf = KFold(n_splits=5, shuffle=True, random_state=1)\n",
    "splits = kf.split(X)\n",
    "\n",
    "for i, (train_index, val_index) in enumerate(splits):\n",
    "  print(\"Split n°: \", i)\n",
    "  # Setup the training and validation data\n",
    "  X_train, y_train = X.iloc[train_index], y.iloc[train_index]\n",
    "  # print(\"training:\", train_index, \"validations:\", val_index)\n",
    "  X_val,y_val= X.iloc[val_index], y.iloc[val_index]\n",
    "\n",
    "  SVM = svm.SVC(C=1.0, kernel='linear', random_state=1111, probability=True) ### the base estimator\n",
    "\n",
    "  SVM.fit(X_train, y_train)\n",
    "\n",
    "  # predict the labels on validation dataset\n",
    "  predictions = SVM.predict(X_val)\n",
    "\n",
    "  # Use accuracy_score function to get the accuracy\n",
    "  kfold_accuracy[i] = accuracy_score(y_val, predictions)\n",
    "  kfold_precision[i] = precision_score(y_val, predictions)\n",
    "  kfold_f[i] = f1_score(y_val,predictions)\n",
    "  kfold_recall[i] = recall_score(y_val,predictions)"
   ]
  },
  {
   "cell_type": "code",
   "execution_count": 15,
   "id": "0d858d03",
   "metadata": {
    "execution": {
     "iopub.execute_input": "2025-02-03T00:24:28.271580Z",
     "iopub.status.busy": "2025-02-03T00:24:28.271097Z",
     "iopub.status.idle": "2025-02-03T00:24:28.282756Z",
     "shell.execute_reply": "2025-02-03T00:24:28.281473Z"
    },
    "papermill": {
     "duration": 0.022477,
     "end_time": "2025-02-03T00:24:28.285197",
     "exception": false,
     "start_time": "2025-02-03T00:24:28.262720",
     "status": "completed"
    },
    "tags": []
   },
   "outputs": [
    {
     "name": "stdout",
     "output_type": "stream",
     "text": [
      "Fold: 0\n",
      "Accuracy: 0.8033707865168539\n",
      "Precision: 0.7241379310344828\n",
      "F1 Score: 0.7058823529411765\n",
      "Recall: 0.6885245901639344\n",
      "\n",
      "\n",
      "Fold: 1\n",
      "Accuracy: 0.8033707865168539\n",
      "Precision: 0.7241379310344828\n",
      "F1 Score: 0.7058823529411765\n",
      "Recall: 0.6885245901639344\n",
      "\n",
      "\n",
      "Fold: 2\n",
      "Accuracy: 0.8033707865168539\n",
      "Precision: 0.7241379310344828\n",
      "F1 Score: 0.7058823529411765\n",
      "Recall: 0.6885245901639344\n",
      "\n",
      "\n",
      "Fold: 3\n",
      "Accuracy: 0.8033707865168539\n",
      "Precision: 0.7241379310344828\n",
      "F1 Score: 0.7058823529411765\n",
      "Recall: 0.6885245901639344\n",
      "\n",
      "\n",
      "Fold: 4\n",
      "Accuracy: 0.8033707865168539\n",
      "Precision: 0.7241379310344828\n",
      "F1 Score: 0.7058823529411765\n",
      "Recall: 0.6885245901639344\n",
      "\n",
      "\n"
     ]
    }
   ],
   "source": [
    "# print dicts\n",
    "for k, v in kfold_accuracy.items():\n",
    "    print(f\"Fold: {k}\")\n",
    "    print(f\"Accuracy: {kfold_accuracy[i]}\")\n",
    "    print(f\"Precision: {kfold_precision[i]}\")\n",
    "    print(f\"F1 Score: {kfold_f[i]}\")\n",
    "    print(f\"Recall: {kfold_recall[i]}\")\n",
    "    print(\"\\n\")"
   ]
  },
  {
   "cell_type": "code",
   "execution_count": 16,
   "id": "dc0f051d",
   "metadata": {
    "execution": {
     "iopub.execute_input": "2025-02-03T00:24:28.308524Z",
     "iopub.status.busy": "2025-02-03T00:24:28.308064Z",
     "iopub.status.idle": "2025-02-03T00:24:28.709547Z",
     "shell.execute_reply": "2025-02-03T00:24:28.708266Z"
    },
    "papermill": {
     "duration": 0.412555,
     "end_time": "2025-02-03T00:24:28.711349",
     "exception": false,
     "start_time": "2025-02-03T00:24:28.298794",
     "status": "completed"
    },
    "tags": []
   },
   "outputs": [
    {
     "data": {
      "text/plain": [
       "<sklearn.metrics._plot.confusion_matrix.ConfusionMatrixDisplay at 0x7b98755a8040>"
      ]
     },
     "execution_count": 16,
     "metadata": {},
     "output_type": "execute_result"
    },
    {
     "data": {
      "image/png": "[encoded data removed]",
      "text/plain": [
       "<Figure size 640x480 with 2 Axes>"
      ]
     },
     "metadata": {},
     "output_type": "display_data"
    }
   ],
   "source": [
    "from sklearn.metrics import confusion_matrix, ConfusionMatrixDisplay\n",
    "\n",
    "cm = confusion_matrix(y_val, predictions, labels=SVM.classes_)\n",
    "display = ConfusionMatrixDisplay(cm)\n",
    "display.plot()"
   ]
  },
  {
   "cell_type": "code",
   "execution_count": null,
   "id": "0aa89abf",
   "metadata": {
    "papermill": {
     "duration": 0.007436,
     "end_time": "2025-02-03T00:24:28.726563",
     "exception": false,
     "start_time": "2025-02-03T00:24:28.719127",
     "status": "completed"
    },
    "tags": []
   },
   "outputs": [],
   "source": []
  }
 ],
 "metadata": {
  "kaggle": {
   "accelerator": "none",
   "dataSources": [
    {
     "databundleVersionId": 26502,
     "sourceId": 3136,
     "sourceType": "competition"
    }
   ],
   "dockerImageVersionId": 30839,
   "isGpuEnabled": false,
   "isInternetEnabled": true,
   "language": "python",
   "sourceType": "notebook"
  },
  "kernelspec": {
   "display_name": "Python 3",
   "language": "python",
   "name": "python3"
  },
  "language_info": {
   "codemirror_mode": {
    "name": "ipython",
    "version": 3
   },
   "file_extension": ".py",
   "mimetype": "text/x-python",
   "name": "python",
   "nbconvert_exporter": "python",
   "pygments_lexer": "ipython3",
   "version": "3.10.12"
  },
  "papermill": {
   "default_parameters": {},
   "duration": 10.316242,
   "end_time": "2025-02-03T00:24:29.556455",
   "environment_variables": {},
   "exception": null,
   "input_path": "__notebook__.ipynb",
   "output_path": "__notebook__.ipynb",
   "parameters": {},
   "start_time": "2025-02-03T00:24:19.240213",
   "version": "2.6.0"
  }
 },
 "nbformat": 4,
 "nbformat_minor": 5
}
