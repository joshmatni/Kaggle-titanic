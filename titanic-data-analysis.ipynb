{
 "cells": [
  {
   "cell_type": "code",
   "execution_count": 1,
   "id": "49d1becb",
   "metadata": {
    "_cell_guid": "b1076dfc-b9ad-4769-8c92-a6c4dae69d19",
    "_uuid": "8f2839f25d086af736a60e9eeb907d3b93b6e0e5",
    "execution": {
     "iopub.execute_input": "2025-02-04T02:09:25.415865Z",
     "iopub.status.busy": "2025-02-04T02:09:25.415450Z",
     "iopub.status.idle": "2025-02-04T02:09:27.846823Z",
     "shell.execute_reply": "2025-02-04T02:09:27.845704Z"
    },
    "papermill": {
     "duration": 2.438426,
     "end_time": "2025-02-04T02:09:27.848338",
     "exception": false,
     "start_time": "2025-02-04T02:09:25.409912",
     "status": "completed"
    },
    "tags": []
   },
   "outputs": [
    {
     "name": "stdout",
     "output_type": "stream",
     "text": [
      "/kaggle/input/titanic/train.csv\n",
      "/kaggle/input/titanic/test.csv\n",
      "/kaggle/input/titanic/gender_submission.csv\n"
     ]
    }
   ],
   "source": [
    "# This Python 3 environment comes with many helpful analytics libraries installed\n",
    "# It is defined by the kaggle/python Docker image: https://github.com/kaggle/docker-python\n",
    "# For example, here's several helpful packages to load\n",
    "\n",
    "import numpy as np # linear algebra\n",
    "import pandas as pd # data processing, CSV file I/O (e.g. pd.read_csv)\n",
    "import seaborn as sns\n",
    "import matplotlib.pyplot as plt\n",
    "\n",
    "# Input data files are available in the read-only \"../input/\" directory\n",
    "# For example, running this (by clicking run or pressing Shift+Enter) will list all files under the input directory\n",
    "\n",
    "import os\n",
    "for dirname, _, filenames in os.walk('/kaggle/input'):\n",
    "    for filename in filenames:\n",
    "        print(os.path.join(dirname, filename))\n",
    "\n",
    "# You can write up to 20GB to the current directory (/kaggle/working/) that gets preserved as output when you create a version using \"Save & Run All\" \n",
    "# You can also write temporary files to /kaggle/temp/, but they won't be saved outside of the current session"
   ]
  },
  {
   "cell_type": "markdown",
   "id": "4e3c41f3",
   "metadata": {
    "papermill": {
     "duration": 0.003384,
     "end_time": "2025-02-04T02:09:27.855772",
     "exception": false,
     "start_time": "2025-02-04T02:09:27.852388",
     "status": "completed"
    },
    "tags": []
   },
   "source": [
    "## goal: we want to find patterns in train.csv that help us predict whether the passengers in test.csv survived."
   ]
  },
  {
   "cell_type": "code",
   "execution_count": 2,
   "id": "99a218cd",
   "metadata": {
    "execution": {
     "iopub.execute_input": "2025-02-04T02:09:27.864347Z",
     "iopub.status.busy": "2025-02-04T02:09:27.863849Z",
     "iopub.status.idle": "2025-02-04T02:09:27.913706Z",
     "shell.execute_reply": "2025-02-04T02:09:27.912696Z"
    },
    "papermill": {
     "duration": 0.055855,
     "end_time": "2025-02-04T02:09:27.915259",
     "exception": false,
     "start_time": "2025-02-04T02:09:27.859404",
     "status": "completed"
    },
    "tags": []
   },
   "outputs": [
    {
     "data": {
      "text/html": [
       "<div>\n",
       "<style scoped>\n",
       "    .dataframe tbody tr th:only-of-type {\n",
       "        vertical-align: middle;\n",
       "    }\n",
       "\n",
       "    .dataframe tbody tr th {\n",
       "        vertical-align: top;\n",
       "    }\n",
       "\n",
       "    .dataframe thead th {\n",
       "        text-align: right;\n",
       "    }\n",
       "</style>\n",
       "<table border=\"1\" class=\"dataframe\">\n",
       "  <thead>\n",
       "    <tr style=\"text-align: right;\">\n",
       "      <th></th>\n",
       "      <th>PassengerId</th>\n",
       "      <th>Survived</th>\n",
       "      <th>Pclass</th>\n",
       "      <th>Name</th>\n",
       "      <th>Sex</th>\n",
       "      <th>Age</th>\n",
       "      <th>SibSp</th>\n",
       "      <th>Parch</th>\n",
       "      <th>Ticket</th>\n",
       "      <th>Fare</th>\n",
       "      <th>Cabin</th>\n",
       "      <th>Embarked</th>\n",
       "    </tr>\n",
       "  </thead>\n",
       "  <tbody>\n",
       "    <tr>\n",
       "      <th>0</th>\n",
       "      <td>1</td>\n",
       "      <td>0</td>\n",
       "      <td>3</td>\n",
       "      <td>Braund, Mr. Owen Harris</td>\n",
       "      <td>male</td>\n",
       "      <td>22.0</td>\n",
       "      <td>1</td>\n",
       "      <td>0</td>\n",
       "      <td>A/5 21171</td>\n",
       "      <td>7.2500</td>\n",
       "      <td>NaN</td>\n",
       "      <td>S</td>\n",
       "    </tr>\n",
       "    <tr>\n",
       "      <th>1</th>\n",
       "      <td>2</td>\n",
       "      <td>1</td>\n",
       "      <td>1</td>\n",
       "      <td>Cumings, Mrs. John Bradley (Florence Briggs Th...</td>\n",
       "      <td>female</td>\n",
       "      <td>38.0</td>\n",
       "      <td>1</td>\n",
       "      <td>0</td>\n",
       "      <td>PC 17599</td>\n",
       "      <td>71.2833</td>\n",
       "      <td>C85</td>\n",
       "      <td>C</td>\n",
       "    </tr>\n",
       "    <tr>\n",
       "      <th>2</th>\n",
       "      <td>3</td>\n",
       "      <td>1</td>\n",
       "      <td>3</td>\n",
       "      <td>Heikkinen, Miss. Laina</td>\n",
       "      <td>female</td>\n",
       "      <td>26.0</td>\n",
       "      <td>0</td>\n",
       "      <td>0</td>\n",
       "      <td>STON/O2. 3101282</td>\n",
       "      <td>7.9250</td>\n",
       "      <td>NaN</td>\n",
       "      <td>S</td>\n",
       "    </tr>\n",
       "    <tr>\n",
       "      <th>3</th>\n",
       "      <td>4</td>\n",
       "      <td>1</td>\n",
       "      <td>1</td>\n",
       "      <td>Futrelle, Mrs. Jacques Heath (Lily May Peel)</td>\n",
       "      <td>female</td>\n",
       "      <td>35.0</td>\n",
       "      <td>1</td>\n",
       "      <td>0</td>\n",
       "      <td>113803</td>\n",
       "      <td>53.1000</td>\n",
       "      <td>C123</td>\n",
       "      <td>S</td>\n",
       "    </tr>\n",
       "    <tr>\n",
       "      <th>4</th>\n",
       "      <td>5</td>\n",
       "      <td>0</td>\n",
       "      <td>3</td>\n",
       "      <td>Allen, Mr. William Henry</td>\n",
       "      <td>male</td>\n",
       "      <td>35.0</td>\n",
       "      <td>0</td>\n",
       "      <td>0</td>\n",
       "      <td>373450</td>\n",
       "      <td>8.0500</td>\n",
       "      <td>NaN</td>\n",
       "      <td>S</td>\n",
       "    </tr>\n",
       "  </tbody>\n",
       "</table>\n",
       "</div>"
      ],
      "text/plain": [
       "   PassengerId  Survived  Pclass  \\\n",
       "0            1         0       3   \n",
       "1            2         1       1   \n",
       "2            3         1       3   \n",
       "3            4         1       1   \n",
       "4            5         0       3   \n",
       "\n",
       "                                                Name     Sex   Age  SibSp  \\\n",
       "0                            Braund, Mr. Owen Harris    male  22.0      1   \n",
       "1  Cumings, Mrs. John Bradley (Florence Briggs Th...  female  38.0      1   \n",
       "2                             Heikkinen, Miss. Laina  female  26.0      0   \n",
       "3       Futrelle, Mrs. Jacques Heath (Lily May Peel)  female  35.0      1   \n",
       "4                           Allen, Mr. William Henry    male  35.0      0   \n",
       "\n",
       "   Parch            Ticket     Fare Cabin Embarked  \n",
       "0      0         A/5 21171   7.2500   NaN        S  \n",
       "1      0          PC 17599  71.2833   C85        C  \n",
       "2      0  STON/O2. 3101282   7.9250   NaN        S  \n",
       "3      0            113803  53.1000  C123        S  \n",
       "4      0            373450   8.0500   NaN        S  "
      ]
     },
     "execution_count": 2,
     "metadata": {},
     "output_type": "execute_result"
    }
   ],
   "source": [
    "# read all datasets\n",
    "train_data = pd.read_csv(\"/kaggle/input/titanic/train.csv\")\n",
    "test_data = pd.read_csv(\"/kaggle/input/titanic/test.csv\")\n",
    "gender_data = pd.read_csv(\"/kaggle/input/titanic/gender_submission.csv\")\n",
    "train_data.head()\n",
    "# gender_data.head()"
   ]
  },
  {
   "cell_type": "code",
   "execution_count": 3,
   "id": "c77c7243",
   "metadata": {
    "execution": {
     "iopub.execute_input": "2025-02-04T02:09:27.924208Z",
     "iopub.status.busy": "2025-02-04T02:09:27.923878Z",
     "iopub.status.idle": "2025-02-04T02:09:27.937363Z",
     "shell.execute_reply": "2025-02-04T02:09:27.936253Z"
    },
    "papermill": {
     "duration": 0.019623,
     "end_time": "2025-02-04T02:09:27.938897",
     "exception": false,
     "start_time": "2025-02-04T02:09:27.919274",
     "status": "completed"
    },
    "tags": []
   },
   "outputs": [
    {
     "name": "stdout",
     "output_type": "stream",
     "text": [
      "PassengerId      0\n",
      "Survived         0\n",
      "Pclass           0\n",
      "Name             0\n",
      "Sex              0\n",
      "Age            177\n",
      "SibSp            0\n",
      "Parch            0\n",
      "Ticket           0\n",
      "Fare             0\n",
      "Cabin          687\n",
      "Embarked         2\n",
      "family_size      0\n",
      "dtype: int64\n",
      "\n",
      "\n",
      "\n",
      "PassengerId      0\n",
      "Pclass           0\n",
      "Name             0\n",
      "Sex              0\n",
      "Age             86\n",
      "SibSp            0\n",
      "Parch            0\n",
      "Ticket           0\n",
      "Fare             1\n",
      "Cabin          327\n",
      "Embarked         0\n",
      "family_size      0\n",
      "dtype: int64\n"
     ]
    }
   ],
   "source": [
    "# add family_size feature\n",
    "train_data[\"family_size\"] = train_data[\"SibSp\"] + train_data[\"Parch\"]\n",
    "test_data[\"family_size\"] = test_data[\"SibSp\"] + test_data[\"Parch\"]\n",
    "\n",
    "# count missing vals for both train and test\n",
    "count_missing_vals = train_data.isnull().sum()\n",
    "print(count_missing_vals)\n",
    "print(\"\\n\\n\")\n",
    "count_missing_vals = test_data.isnull().sum()\n",
    "print(count_missing_vals)"
   ]
  },
  {
   "cell_type": "code",
   "execution_count": 4,
   "id": "a691aeaf",
   "metadata": {
    "execution": {
     "iopub.execute_input": "2025-02-04T02:09:27.948209Z",
     "iopub.status.busy": "2025-02-04T02:09:27.947894Z",
     "iopub.status.idle": "2025-02-04T02:09:27.958216Z",
     "shell.execute_reply": "2025-02-04T02:09:27.957422Z"
    },
    "papermill": {
     "duration": 0.016633,
     "end_time": "2025-02-04T02:09:27.959759",
     "exception": false,
     "start_time": "2025-02-04T02:09:27.943126",
     "status": "completed"
    },
    "tags": []
   },
   "outputs": [],
   "source": [
    "# fill missing age values with mean for both train and test datasets\n",
    "train_mean_age = round(train_data[\"Age\"].mean())\n",
    "train_data.fillna({\"Age\": train_mean_age}, inplace=True)\n",
    "\n",
    "test_mean_age = round(test_data[\"Age\"].mean())\n",
    "test_data.fillna({\"Age\": test_mean_age}, inplace=True)\n",
    "\n",
    "# change Sex (Categorical) to Numerical for train and test\n",
    "pd.set_option('future.no_silent_downcasting', True) # need this or else Downcasting behavior\n",
    "train_data.replace({\"Sex\": {\"female\": 1, \"male\": 0}}, inplace=True)\n",
    "test_data.replace({\"Sex\": {\"female\": 1, \"male\": 0}}, inplace=True)\n",
    "train_data[\"Sex\"] = train_data[\"Sex\"].astype(int)\n",
    "test_data[\"Sex\"] = test_data[\"Sex\"].astype(int)"
   ]
  },
  {
   "cell_type": "code",
   "execution_count": 5,
   "id": "3b1efc99",
   "metadata": {
    "execution": {
     "iopub.execute_input": "2025-02-04T02:09:27.968838Z",
     "iopub.status.busy": "2025-02-04T02:09:27.968493Z",
     "iopub.status.idle": "2025-02-04T02:09:28.001580Z",
     "shell.execute_reply": "2025-02-04T02:09:28.000575Z"
    },
    "papermill": {
     "duration": 0.0392,
     "end_time": "2025-02-04T02:09:28.003139",
     "exception": false,
     "start_time": "2025-02-04T02:09:27.963939",
     "status": "completed"
    },
    "tags": []
   },
   "outputs": [
    {
     "data": {
      "text/html": [
       "<div>\n",
       "<style scoped>\n",
       "    .dataframe tbody tr th:only-of-type {\n",
       "        vertical-align: middle;\n",
       "    }\n",
       "\n",
       "    .dataframe tbody tr th {\n",
       "        vertical-align: top;\n",
       "    }\n",
       "\n",
       "    .dataframe thead th {\n",
       "        text-align: right;\n",
       "    }\n",
       "</style>\n",
       "<table border=\"1\" class=\"dataframe\">\n",
       "  <thead>\n",
       "    <tr style=\"text-align: right;\">\n",
       "      <th></th>\n",
       "      <th>PassengerId</th>\n",
       "      <th>Survived</th>\n",
       "      <th>Pclass</th>\n",
       "      <th>Sex</th>\n",
       "      <th>Age</th>\n",
       "      <th>SibSp</th>\n",
       "      <th>Parch</th>\n",
       "      <th>Fare</th>\n",
       "      <th>family_size</th>\n",
       "    </tr>\n",
       "  </thead>\n",
       "  <tbody>\n",
       "    <tr>\n",
       "      <th>count</th>\n",
       "      <td>891.000000</td>\n",
       "      <td>891.000000</td>\n",
       "      <td>891.000000</td>\n",
       "      <td>891.000000</td>\n",
       "      <td>891.000000</td>\n",
       "      <td>891.000000</td>\n",
       "      <td>891.000000</td>\n",
       "      <td>891.000000</td>\n",
       "      <td>891.000000</td>\n",
       "    </tr>\n",
       "    <tr>\n",
       "      <th>mean</th>\n",
       "      <td>446.000000</td>\n",
       "      <td>0.383838</td>\n",
       "      <td>2.308642</td>\n",
       "      <td>0.352413</td>\n",
       "      <td>29.758889</td>\n",
       "      <td>0.523008</td>\n",
       "      <td>0.381594</td>\n",
       "      <td>32.204208</td>\n",
       "      <td>0.904602</td>\n",
       "    </tr>\n",
       "    <tr>\n",
       "      <th>std</th>\n",
       "      <td>257.353842</td>\n",
       "      <td>0.486592</td>\n",
       "      <td>0.836071</td>\n",
       "      <td>0.477990</td>\n",
       "      <td>13.002570</td>\n",
       "      <td>1.102743</td>\n",
       "      <td>0.806057</td>\n",
       "      <td>49.693429</td>\n",
       "      <td>1.613459</td>\n",
       "    </tr>\n",
       "    <tr>\n",
       "      <th>min</th>\n",
       "      <td>1.000000</td>\n",
       "      <td>0.000000</td>\n",
       "      <td>1.000000</td>\n",
       "      <td>0.000000</td>\n",
       "      <td>0.420000</td>\n",
       "      <td>0.000000</td>\n",
       "      <td>0.000000</td>\n",
       "      <td>0.000000</td>\n",
       "      <td>0.000000</td>\n",
       "    </tr>\n",
       "    <tr>\n",
       "      <th>25%</th>\n",
       "      <td>223.500000</td>\n",
       "      <td>0.000000</td>\n",
       "      <td>2.000000</td>\n",
       "      <td>0.000000</td>\n",
       "      <td>22.000000</td>\n",
       "      <td>0.000000</td>\n",
       "      <td>0.000000</td>\n",
       "      <td>7.910400</td>\n",
       "      <td>0.000000</td>\n",
       "    </tr>\n",
       "    <tr>\n",
       "      <th>50%</th>\n",
       "      <td>446.000000</td>\n",
       "      <td>0.000000</td>\n",
       "      <td>3.000000</td>\n",
       "      <td>0.000000</td>\n",
       "      <td>30.000000</td>\n",
       "      <td>0.000000</td>\n",
       "      <td>0.000000</td>\n",
       "      <td>14.454200</td>\n",
       "      <td>0.000000</td>\n",
       "    </tr>\n",
       "    <tr>\n",
       "      <th>75%</th>\n",
       "      <td>668.500000</td>\n",
       "      <td>1.000000</td>\n",
       "      <td>3.000000</td>\n",
       "      <td>1.000000</td>\n",
       "      <td>35.000000</td>\n",
       "      <td>1.000000</td>\n",
       "      <td>0.000000</td>\n",
       "      <td>31.000000</td>\n",
       "      <td>1.000000</td>\n",
       "    </tr>\n",
       "    <tr>\n",
       "      <th>max</th>\n",
       "      <td>891.000000</td>\n",
       "      <td>1.000000</td>\n",
       "      <td>3.000000</td>\n",
       "      <td>1.000000</td>\n",
       "      <td>80.000000</td>\n",
       "      <td>8.000000</td>\n",
       "      <td>6.000000</td>\n",
       "      <td>512.329200</td>\n",
       "      <td>10.000000</td>\n",
       "    </tr>\n",
       "  </tbody>\n",
       "</table>\n",
       "</div>"
      ],
      "text/plain": [
       "       PassengerId    Survived      Pclass         Sex         Age  \\\n",
       "count   891.000000  891.000000  891.000000  891.000000  891.000000   \n",
       "mean    446.000000    0.383838    2.308642    0.352413   29.758889   \n",
       "std     257.353842    0.486592    0.836071    0.477990   13.002570   \n",
       "min       1.000000    0.000000    1.000000    0.000000    0.420000   \n",
       "25%     223.500000    0.000000    2.000000    0.000000   22.000000   \n",
       "50%     446.000000    0.000000    3.000000    0.000000   30.000000   \n",
       "75%     668.500000    1.000000    3.000000    1.000000   35.000000   \n",
       "max     891.000000    1.000000    3.000000    1.000000   80.000000   \n",
       "\n",
       "            SibSp       Parch        Fare  family_size  \n",
       "count  891.000000  891.000000  891.000000   891.000000  \n",
       "mean     0.523008    0.381594   32.204208     0.904602  \n",
       "std      1.102743    0.806057   49.693429     1.613459  \n",
       "min      0.000000    0.000000    0.000000     0.000000  \n",
       "25%      0.000000    0.000000    7.910400     0.000000  \n",
       "50%      0.000000    0.000000   14.454200     0.000000  \n",
       "75%      1.000000    0.000000   31.000000     1.000000  \n",
       "max      8.000000    6.000000  512.329200    10.000000  "
      ]
     },
     "execution_count": 5,
     "metadata": {},
     "output_type": "execute_result"
    }
   ],
   "source": [
    "train_data.describe()"
   ]
  },
  {
   "cell_type": "code",
   "execution_count": 6,
   "id": "d9682a39",
   "metadata": {
    "execution": {
     "iopub.execute_input": "2025-02-04T02:09:28.013050Z",
     "iopub.status.busy": "2025-02-04T02:09:28.012712Z",
     "iopub.status.idle": "2025-02-04T02:09:28.030422Z",
     "shell.execute_reply": "2025-02-04T02:09:28.029436Z"
    },
    "papermill": {
     "duration": 0.024316,
     "end_time": "2025-02-04T02:09:28.031977",
     "exception": false,
     "start_time": "2025-02-04T02:09:28.007661",
     "status": "completed"
    },
    "tags": []
   },
   "outputs": [
    {
     "data": {
      "text/html": [
       "<div>\n",
       "<style scoped>\n",
       "    .dataframe tbody tr th:only-of-type {\n",
       "        vertical-align: middle;\n",
       "    }\n",
       "\n",
       "    .dataframe tbody tr th {\n",
       "        vertical-align: top;\n",
       "    }\n",
       "\n",
       "    .dataframe thead th {\n",
       "        text-align: right;\n",
       "    }\n",
       "</style>\n",
       "<table border=\"1\" class=\"dataframe\">\n",
       "  <thead>\n",
       "    <tr style=\"text-align: right;\">\n",
       "      <th></th>\n",
       "      <th>PassengerId</th>\n",
       "      <th>Survived</th>\n",
       "      <th>Pclass</th>\n",
       "      <th>Sex</th>\n",
       "      <th>Age</th>\n",
       "      <th>SibSp</th>\n",
       "      <th>Parch</th>\n",
       "      <th>Fare</th>\n",
       "      <th>family_size</th>\n",
       "    </tr>\n",
       "  </thead>\n",
       "  <tbody>\n",
       "    <tr>\n",
       "      <th>PassengerId</th>\n",
       "      <td>1.000000</td>\n",
       "      <td>-0.005007</td>\n",
       "      <td>-0.035144</td>\n",
       "      <td>-0.042939</td>\n",
       "      <td>0.033019</td>\n",
       "      <td>-0.057527</td>\n",
       "      <td>-0.001652</td>\n",
       "      <td>0.012658</td>\n",
       "      <td>-0.040143</td>\n",
       "    </tr>\n",
       "    <tr>\n",
       "      <th>Survived</th>\n",
       "      <td>-0.005007</td>\n",
       "      <td>1.000000</td>\n",
       "      <td>-0.338481</td>\n",
       "      <td>0.543351</td>\n",
       "      <td>-0.070657</td>\n",
       "      <td>-0.035322</td>\n",
       "      <td>0.081629</td>\n",
       "      <td>0.257307</td>\n",
       "      <td>0.016639</td>\n",
       "    </tr>\n",
       "    <tr>\n",
       "      <th>Pclass</th>\n",
       "      <td>-0.035144</td>\n",
       "      <td>-0.338481</td>\n",
       "      <td>1.000000</td>\n",
       "      <td>-0.131900</td>\n",
       "      <td>-0.329727</td>\n",
       "      <td>0.083081</td>\n",
       "      <td>0.018443</td>\n",
       "      <td>-0.549500</td>\n",
       "      <td>0.065997</td>\n",
       "    </tr>\n",
       "    <tr>\n",
       "      <th>Sex</th>\n",
       "      <td>-0.042939</td>\n",
       "      <td>0.543351</td>\n",
       "      <td>-0.131900</td>\n",
       "      <td>1.000000</td>\n",
       "      <td>-0.084660</td>\n",
       "      <td>0.114631</td>\n",
       "      <td>0.245489</td>\n",
       "      <td>0.182333</td>\n",
       "      <td>0.200988</td>\n",
       "    </tr>\n",
       "    <tr>\n",
       "      <th>Age</th>\n",
       "      <td>0.033019</td>\n",
       "      <td>-0.070657</td>\n",
       "      <td>-0.329727</td>\n",
       "      <td>-0.084660</td>\n",
       "      <td>1.000000</td>\n",
       "      <td>-0.232440</td>\n",
       "      <td>-0.180330</td>\n",
       "      <td>0.090632</td>\n",
       "      <td>-0.248954</td>\n",
       "    </tr>\n",
       "    <tr>\n",
       "      <th>SibSp</th>\n",
       "      <td>-0.057527</td>\n",
       "      <td>-0.035322</td>\n",
       "      <td>0.083081</td>\n",
       "      <td>0.114631</td>\n",
       "      <td>-0.232440</td>\n",
       "      <td>1.000000</td>\n",
       "      <td>0.414838</td>\n",
       "      <td>0.159651</td>\n",
       "      <td>0.890712</td>\n",
       "    </tr>\n",
       "    <tr>\n",
       "      <th>Parch</th>\n",
       "      <td>-0.001652</td>\n",
       "      <td>0.081629</td>\n",
       "      <td>0.018443</td>\n",
       "      <td>0.245489</td>\n",
       "      <td>-0.180330</td>\n",
       "      <td>0.414838</td>\n",
       "      <td>1.000000</td>\n",
       "      <td>0.216225</td>\n",
       "      <td>0.783111</td>\n",
       "    </tr>\n",
       "    <tr>\n",
       "      <th>Fare</th>\n",
       "      <td>0.012658</td>\n",
       "      <td>0.257307</td>\n",
       "      <td>-0.549500</td>\n",
       "      <td>0.182333</td>\n",
       "      <td>0.090632</td>\n",
       "      <td>0.159651</td>\n",
       "      <td>0.216225</td>\n",
       "      <td>1.000000</td>\n",
       "      <td>0.217138</td>\n",
       "    </tr>\n",
       "    <tr>\n",
       "      <th>family_size</th>\n",
       "      <td>-0.040143</td>\n",
       "      <td>0.016639</td>\n",
       "      <td>0.065997</td>\n",
       "      <td>0.200988</td>\n",
       "      <td>-0.248954</td>\n",
       "      <td>0.890712</td>\n",
       "      <td>0.783111</td>\n",
       "      <td>0.217138</td>\n",
       "      <td>1.000000</td>\n",
       "    </tr>\n",
       "  </tbody>\n",
       "</table>\n",
       "</div>"
      ],
      "text/plain": [
       "             PassengerId  Survived    Pclass       Sex       Age     SibSp  \\\n",
       "PassengerId     1.000000 -0.005007 -0.035144 -0.042939  0.033019 -0.057527   \n",
       "Survived       -0.005007  1.000000 -0.338481  0.543351 -0.070657 -0.035322   \n",
       "Pclass         -0.035144 -0.338481  1.000000 -0.131900 -0.329727  0.083081   \n",
       "Sex            -0.042939  0.543351 -0.131900  1.000000 -0.084660  0.114631   \n",
       "Age             0.033019 -0.070657 -0.329727 -0.084660  1.000000 -0.232440   \n",
       "SibSp          -0.057527 -0.035322  0.083081  0.114631 -0.232440  1.000000   \n",
       "Parch          -0.001652  0.081629  0.018443  0.245489 -0.180330  0.414838   \n",
       "Fare            0.012658  0.257307 -0.549500  0.182333  0.090632  0.159651   \n",
       "family_size    -0.040143  0.016639  0.065997  0.200988 -0.248954  0.890712   \n",
       "\n",
       "                Parch      Fare  family_size  \n",
       "PassengerId -0.001652  0.012658    -0.040143  \n",
       "Survived     0.081629  0.257307     0.016639  \n",
       "Pclass       0.018443 -0.549500     0.065997  \n",
       "Sex          0.245489  0.182333     0.200988  \n",
       "Age         -0.180330  0.090632    -0.248954  \n",
       "SibSp        0.414838  0.159651     0.890712  \n",
       "Parch        1.000000  0.216225     0.783111  \n",
       "Fare         0.216225  1.000000     0.217138  \n",
       "family_size  0.783111  0.217138     1.000000  "
      ]
     },
     "execution_count": 6,
     "metadata": {},
     "output_type": "execute_result"
    }
   ],
   "source": [
    "# filter train_data for numeric values to conduct numeric data analysis\n",
    "num_train_data = train_data.select_dtypes(include=['number'])\n",
    "train_corr_matrix = num_train_data.corr()\n",
    "train_corr_matrix"
   ]
  },
  {
   "cell_type": "code",
   "execution_count": 7,
   "id": "c14c5f08",
   "metadata": {
    "execution": {
     "iopub.execute_input": "2025-02-04T02:09:28.041821Z",
     "iopub.status.busy": "2025-02-04T02:09:28.041477Z",
     "iopub.status.idle": "2025-02-04T02:09:28.756262Z",
     "shell.execute_reply": "2025-02-04T02:09:28.755248Z"
    },
    "papermill": {
     "duration": 0.721455,
     "end_time": "2025-02-04T02:09:28.757951",
     "exception": false,
     "start_time": "2025-02-04T02:09:28.036496",
     "status": "completed"
    },
    "tags": []
   },
   "outputs": [
    {
     "data": {
      "text/plain": [
       "<seaborn.matrix.ClusterGrid at 0x7e836c7d4280>"
      ]
     },
     "execution_count": 7,
     "metadata": {},
     "output_type": "execute_result"
    },
    {
     "data": {
      "image/png": "[encoded data removed]",
      "text/plain": [
       "<Figure size 600x600 with 4 Axes>"
      ]
     },
     "metadata": {},
     "output_type": "display_data"
    }
   ],
   "source": [
    "# plot clustermap to see linkages and correlation vals\n",
    "mask = np.triu(np.ones_like(train_corr_matrix))\n",
    "sns.clustermap(train_corr_matrix,\n",
    "               annot=True,\n",
    "              fmt='.2f',\n",
    "              figsize=(6,6))"
   ]
  },
  {
   "cell_type": "code",
   "execution_count": 8,
   "id": "dc734849",
   "metadata": {
    "execution": {
     "iopub.execute_input": "2025-02-04T02:09:28.771779Z",
     "iopub.status.busy": "2025-02-04T02:09:28.771381Z",
     "iopub.status.idle": "2025-02-04T02:09:29.202551Z",
     "shell.execute_reply": "2025-02-04T02:09:29.201424Z"
    },
    "papermill": {
     "duration": 0.439822,
     "end_time": "2025-02-04T02:09:29.204203",
     "exception": false,
     "start_time": "2025-02-04T02:09:28.764381",
     "status": "completed"
    },
    "tags": []
   },
   "outputs": [
    {
     "name": "stdout",
     "output_type": "stream",
     "text": [
      "submission written!\n"
     ]
    }
   ],
   "source": [
    "# begin ML trying with SVM Classification first\n",
    "from sklearn import svm\n",
    "\n",
    "y = train_data[\"Survived\"]\n",
    "features = [\"Pclass\", \"Sex\", \"family_size\", \"Age\"]\n",
    "\n",
    "X = pd.get_dummies(train_data[features])\n",
    "# np.any(np.isnan(X))\n",
    "# np.isfinite(X.all())\n",
    "# Check for infinite values\n",
    "# print(np.any(~np.isfinite(X)))  # Should return False\n",
    "\n",
    "X_test = pd.get_dummies(test_data[features])\n",
    "\n",
    "# np.any(np.isnan(X_test))\n",
    "# np.isfinite(X_test.all())\n",
    "# Check for infinite values\n",
    "# print(np.any(~np.isfinite(X_test)))  # Should return False\n",
    "\n",
    "# misvals = X_test.isnull().sum()\n",
    "# print(misvals)\n",
    "\n",
    "clf = svm.SVC(C=1.0, kernel='linear', random_state=42)\n",
    "clf.fit(X, y)\n",
    "\n",
    "predictions = clf.predict(X_test)\n",
    "\n",
    "output = pd.DataFrame({'PassengerId': test_data.PassengerId, 'Survived': predictions})\n",
    "output.to_csv('submission.csv', index=False)\n",
    "print(\"submission written!\")"
   ]
  },
  {
   "cell_type": "code",
   "execution_count": 9,
   "id": "7883b53e",
   "metadata": {
    "execution": {
     "iopub.execute_input": "2025-02-04T02:09:29.218237Z",
     "iopub.status.busy": "2025-02-04T02:09:29.217906Z",
     "iopub.status.idle": "2025-02-04T02:09:29.221333Z",
     "shell.execute_reply": "2025-02-04T02:09:29.220559Z"
    },
    "papermill": {
     "duration": 0.012055,
     "end_time": "2025-02-04T02:09:29.222740",
     "exception": false,
     "start_time": "2025-02-04T02:09:29.210685",
     "status": "completed"
    },
    "tags": []
   },
   "outputs": [],
   "source": [
    "# now try\n",
    "# adding different features\n",
    "# scaling all features\n",
    "# using different kernels\n",
    "# grid search for best hyperparameters\n",
    "# try random forest and/or XGBoost"
   ]
  },
  {
   "cell_type": "code",
   "execution_count": 10,
   "id": "12a7059d",
   "metadata": {
    "execution": {
     "iopub.execute_input": "2025-02-04T02:09:29.236750Z",
     "iopub.status.busy": "2025-02-04T02:09:29.236340Z",
     "iopub.status.idle": "2025-02-04T02:09:29.576796Z",
     "shell.execute_reply": "2025-02-04T02:09:29.575700Z"
    },
    "papermill": {
     "duration": 0.34938,
     "end_time": "2025-02-04T02:09:29.578500",
     "exception": false,
     "start_time": "2025-02-04T02:09:29.229120",
     "status": "completed"
    },
    "tags": []
   },
   "outputs": [
    {
     "name": "stdout",
     "output_type": "stream",
     "text": [
      "Fold: 0, accuracy: 0.776536312849162\n",
      "Fold: 1, accuracy: 0.7247191011235955\n",
      "Fold: 2, accuracy: 0.797752808988764\n",
      "Fold: 3, accuracy: 0.8314606741573034\n",
      "Fold: 4, accuracy: 0.8033707865168539\n"
     ]
    }
   ],
   "source": [
    "from sklearn.model_selection import KFold\n",
    "from sklearn.metrics import accuracy_score\n",
    "from sklearn.model_selection import GridSearchCV\n",
    "from sklearn.preprocessing import StandardScaler\n",
    "\n",
    "y = train_data[\"Survived\"]\n",
    "features = [\"Pclass\", \"Sex\", \"family_size\", \"Age\"]\n",
    "\n",
    "X = pd.get_dummies(train_data[features])\n",
    "X_test = pd.get_dummies(test_data[features])\n",
    "\n",
    "\n",
    "kf = KFold(n_splits=5, shuffle=True, random_state=1) # 83->85% accuracy\n",
    "kf.get_n_splits(X)\n",
    "\n",
    "for i, (train_index, test_index) in enumerate(kf.split(X, y)):\n",
    "    # print(f\"Fold: {i}\")\n",
    "    # print(f\"Train index={train_index}\")\n",
    "    # print(f\"Test index={test_index}\")\n",
    "\n",
    "    # use iloc or else KeyError\n",
    "    clf = svm.SVC(C=1.0, kernel='linear', random_state=42)\n",
    "    clf.fit(X.iloc[train_index], y.iloc[train_index]) # train on subset\n",
    "    \n",
    "    y_pred = clf.predict(X.iloc[test_index]) # validate \n",
    "    accuracy = accuracy_score(y.iloc[test_index], y_pred)\n",
    "\n",
    "    print(f\"Fold: {i}, accuracy: {accuracy}\")\n"
   ]
  },
  {
   "cell_type": "code",
   "execution_count": 11,
   "id": "f5b3ce0a",
   "metadata": {
    "execution": {
     "iopub.execute_input": "2025-02-04T02:09:29.593868Z",
     "iopub.status.busy": "2025-02-04T02:09:29.593507Z",
     "iopub.status.idle": "2025-02-04T02:09:29.597442Z",
     "shell.execute_reply": "2025-02-04T02:09:29.596587Z"
    },
    "papermill": {
     "duration": 0.012769,
     "end_time": "2025-02-04T02:09:29.598880",
     "exception": false,
     "start_time": "2025-02-04T02:09:29.586111",
     "status": "completed"
    },
    "tags": []
   },
   "outputs": [],
   "source": [
    "# from sklearn.metrics import precision_score, accuracy_score, f1_score, recall_score\n",
    "# # Access the training and validation indices of splits\n",
    "# kfold_accuracy = {}\n",
    "# kfold_precision = {}\n",
    "# kfold_f = {}\n",
    "# kfold_recall = {}\n",
    "\n",
    "# train_data[\"family_size\"] = train_data[\"SibSp\"] + train_data[\"Parch\"]\n",
    "# test_data[\"family_size\"] = test_data[\"SibSp\"] + test_data[\"Parch\"]\n",
    "\n",
    "# y = train_data[\"Survived\"]\n",
    "# features = [\"Pclass\", \"Sex\", \"family_size\"]\n",
    "\n",
    "# X = pd.get_dummies(train_data[features])\n",
    "# X_test = pd.get_dummies(test_data[features])\n",
    "\n",
    "# kf = KFold(n_splits=5, shuffle=True, random_state=1)\n",
    "# splits = kf.split(X)\n",
    "\n",
    "# for i, (train_index, val_index) in enumerate(splits):\n",
    "#   print(\"Split n°: \", i)\n",
    "#   # Setup the training and validation data\n",
    "#   X_train, y_train = X.iloc[train_index], y.iloc[train_index]\n",
    "#   # print(\"training:\", train_index, \"validations:\", val_index)\n",
    "#   X_val,y_val= X.iloc[val_index], y.iloc[val_index]\n",
    "\n",
    "#   SVM = svm.SVC(C=1.0, kernel='linear', random_state=1111, probability=True) ### the base estimator\n",
    "\n",
    "#   SVM.fit(X_train, y_train)\n",
    "\n",
    "#   # predict the labels on validation dataset\n",
    "#   predictions = SVM.predict(X_val)\n",
    "\n",
    "#   # Use accuracy_score function to get the accuracy\n",
    "#   kfold_accuracy[i] = accuracy_score(y_val, predictions)\n",
    "#   kfold_precision[i] = precision_score(y_val, predictions)\n",
    "#   kfold_f[i] = f1_score(y_val,predictions)\n",
    "#   kfold_recall[i] = recall_score(y_val,predictions)"
   ]
  },
  {
   "cell_type": "code",
   "execution_count": 12,
   "id": "4678689a",
   "metadata": {
    "execution": {
     "iopub.execute_input": "2025-02-04T02:09:29.613502Z",
     "iopub.status.busy": "2025-02-04T02:09:29.613164Z",
     "iopub.status.idle": "2025-02-04T02:09:29.616614Z",
     "shell.execute_reply": "2025-02-04T02:09:29.615818Z"
    },
    "papermill": {
     "duration": 0.012421,
     "end_time": "2025-02-04T02:09:29.618045",
     "exception": false,
     "start_time": "2025-02-04T02:09:29.605624",
     "status": "completed"
    },
    "tags": []
   },
   "outputs": [],
   "source": [
    "# # print dicts\n",
    "# for k, v in kfold_accuracy.items():\n",
    "#     print(f\"Fold: {k}\")\n",
    "#     print(f\"Accuracy: {kfold_accuracy[i]}\")\n",
    "#     print(f\"Precision: {kfold_precision[i]}\")\n",
    "#     print(f\"F1 Score: {kfold_f[i]}\")\n",
    "#     print(f\"Recall: {kfold_recall[i]}\")\n",
    "#     print(\"\\n\")"
   ]
  },
  {
   "cell_type": "code",
   "execution_count": 13,
   "id": "d8ec7f3a",
   "metadata": {
    "execution": {
     "iopub.execute_input": "2025-02-04T02:09:29.632329Z",
     "iopub.status.busy": "2025-02-04T02:09:29.631979Z",
     "iopub.status.idle": "2025-02-04T02:09:29.635532Z",
     "shell.execute_reply": "2025-02-04T02:09:29.634694Z"
    },
    "papermill": {
     "duration": 0.012569,
     "end_time": "2025-02-04T02:09:29.637169",
     "exception": false,
     "start_time": "2025-02-04T02:09:29.624600",
     "status": "completed"
    },
    "tags": []
   },
   "outputs": [],
   "source": [
    "# from sklearn.metrics import confusion_matrix, ConfusionMatrixDisplay\n",
    "\n",
    "# cm = confusion_matrix(y_val, predictions, labels=SVM.classes_)\n",
    "# display = ConfusionMatrixDisplay(cm)\n",
    "# display.plot()"
   ]
  },
  {
   "cell_type": "code",
   "execution_count": null,
   "id": "2cd8a9fb",
   "metadata": {
    "papermill": {
     "duration": 0.006521,
     "end_time": "2025-02-04T02:09:29.650565",
     "exception": false,
     "start_time": "2025-02-04T02:09:29.644044",
     "status": "completed"
    },
    "tags": []
   },
   "outputs": [],
   "source": []
  }
 ],
 "metadata": {
  "kaggle": {
   "accelerator": "none",
   "dataSources": [
    {
     "databundleVersionId": 26502,
     "sourceId": 3136,
     "sourceType": "competition"
    }
   ],
   "dockerImageVersionId": 30839,
   "isGpuEnabled": false,
   "isInternetEnabled": true,
   "language": "python",
   "sourceType": "notebook"
  },
  "kernelspec": {
   "display_name": "Python 3",
   "language": "python",
   "name": "python3"
  },
  "language_info": {
   "codemirror_mode": {
    "name": "ipython",
    "version": 3
   },
   "file_extension": ".py",
   "mimetype": "text/x-python",
   "name": "python",
   "nbconvert_exporter": "python",
   "pygments_lexer": "ipython3",
   "version": "3.10.12"
  },
  "papermill": {
   "default_parameters": {},
   "duration": 7.633318,
   "end_time": "2025-02-04T02:09:30.378877",
   "environment_variables": {},
   "exception": null,
   "input_path": "__notebook__.ipynb",
   "output_path": "__notebook__.ipynb",
   "parameters": {},
   "start_time": "2025-02-04T02:09:22.745559",
   "version": "2.6.0"
  }
 },
 "nbformat": 4,
 "nbformat_minor": 5
}
