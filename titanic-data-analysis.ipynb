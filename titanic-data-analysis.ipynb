{
 "cells": [
  {
   "cell_type": "code",
   "execution_count": 1,
   "id": "1e236eb6",
   "metadata": {
    "_cell_guid": "b1076dfc-b9ad-4769-8c92-a6c4dae69d19",
    "_uuid": "8f2839f25d086af736a60e9eeb907d3b93b6e0e5",
    "execution": {
     "iopub.execute_input": "2025-02-04T01:28:34.211911Z",
     "iopub.status.busy": "2025-02-04T01:28:34.211402Z",
     "iopub.status.idle": "2025-02-04T01:28:37.011008Z",
     "shell.execute_reply": "2025-02-04T01:28:37.009791Z"
    },
    "papermill": {
     "duration": 2.807398,
     "end_time": "2025-02-04T01:28:37.013012",
     "exception": false,
     "start_time": "2025-02-04T01:28:34.205614",
     "status": "completed"
    },
    "tags": []
   },
   "outputs": [
    {
     "name": "stdout",
     "output_type": "stream",
     "text": [
      "/kaggle/input/titanic/train.csv\n",
      "/kaggle/input/titanic/test.csv\n",
      "/kaggle/input/titanic/gender_submission.csv\n"
     ]
    }
   ],
   "source": [
    "# This Python 3 environment comes with many helpful analytics libraries installed\n",
    "# It is defined by the kaggle/python Docker image: https://github.com/kaggle/docker-python\n",
    "# For example, here's several helpful packages to load\n",
    "\n",
    "import numpy as np # linear algebra\n",
    "import pandas as pd # data processing, CSV file I/O (e.g. pd.read_csv)\n",
    "import seaborn as sns\n",
    "import matplotlib.pyplot as plt\n",
    "\n",
    "# Input data files are available in the read-only \"../input/\" directory\n",
    "# For example, running this (by clicking run or pressing Shift+Enter) will list all files under the input directory\n",
    "\n",
    "import os\n",
    "for dirname, _, filenames in os.walk('/kaggle/input'):\n",
    "    for filename in filenames:\n",
    "        print(os.path.join(dirname, filename))\n",
    "\n",
    "# You can write up to 20GB to the current directory (/kaggle/working/) that gets preserved as output when you create a version using \"Save & Run All\" \n",
    "# You can also write temporary files to /kaggle/temp/, but they won't be saved outside of the current session"
   ]
  },
  {
   "cell_type": "markdown",
   "id": "1145e0ad",
   "metadata": {
    "papermill": {
     "duration": 0.003489,
     "end_time": "2025-02-04T01:28:37.020759",
     "exception": false,
     "start_time": "2025-02-04T01:28:37.017270",
     "status": "completed"
    },
    "tags": []
   },
   "source": [
    "## goal: we want to find patterns in train.csv that help us predict whether the passengers in test.csv survived."
   ]
  },
  {
   "cell_type": "code",
   "execution_count": 2,
   "id": "c2a73ae8",
   "metadata": {
    "execution": {
     "iopub.execute_input": "2025-02-04T01:28:37.029637Z",
     "iopub.status.busy": "2025-02-04T01:28:37.029045Z",
     "iopub.status.idle": "2025-02-04T01:28:37.087570Z",
     "shell.execute_reply": "2025-02-04T01:28:37.086436Z"
    },
    "papermill": {
     "duration": 0.065137,
     "end_time": "2025-02-04T01:28:37.089642",
     "exception": false,
     "start_time": "2025-02-04T01:28:37.024505",
     "status": "completed"
    },
    "tags": []
   },
   "outputs": [
    {
     "data": {
      "text/html": [
       "<div>\n",
       "<style scoped>\n",
       "    .dataframe tbody tr th:only-of-type {\n",
       "        vertical-align: middle;\n",
       "    }\n",
       "\n",
       "    .dataframe tbody tr th {\n",
       "        vertical-align: top;\n",
       "    }\n",
       "\n",
       "    .dataframe thead th {\n",
       "        text-align: right;\n",
       "    }\n",
       "</style>\n",
       "<table border=\"1\" class=\"dataframe\">\n",
       "  <thead>\n",
       "    <tr style=\"text-align: right;\">\n",
       "      <th></th>\n",
       "      <th>PassengerId</th>\n",
       "      <th>Survived</th>\n",
       "      <th>Pclass</th>\n",
       "      <th>Name</th>\n",
       "      <th>Sex</th>\n",
       "      <th>Age</th>\n",
       "      <th>SibSp</th>\n",
       "      <th>Parch</th>\n",
       "      <th>Ticket</th>\n",
       "      <th>Fare</th>\n",
       "      <th>Cabin</th>\n",
       "      <th>Embarked</th>\n",
       "    </tr>\n",
       "  </thead>\n",
       "  <tbody>\n",
       "    <tr>\n",
       "      <th>0</th>\n",
       "      <td>1</td>\n",
       "      <td>0</td>\n",
       "      <td>3</td>\n",
       "      <td>Braund, Mr. Owen Harris</td>\n",
       "      <td>male</td>\n",
       "      <td>22.0</td>\n",
       "      <td>1</td>\n",
       "      <td>0</td>\n",
       "      <td>A/5 21171</td>\n",
       "      <td>7.2500</td>\n",
       "      <td>NaN</td>\n",
       "      <td>S</td>\n",
       "    </tr>\n",
       "    <tr>\n",
       "      <th>1</th>\n",
       "      <td>2</td>\n",
       "      <td>1</td>\n",
       "      <td>1</td>\n",
       "      <td>Cumings, Mrs. John Bradley (Florence Briggs Th...</td>\n",
       "      <td>female</td>\n",
       "      <td>38.0</td>\n",
       "      <td>1</td>\n",
       "      <td>0</td>\n",
       "      <td>PC 17599</td>\n",
       "      <td>71.2833</td>\n",
       "      <td>C85</td>\n",
       "      <td>C</td>\n",
       "    </tr>\n",
       "    <tr>\n",
       "      <th>2</th>\n",
       "      <td>3</td>\n",
       "      <td>1</td>\n",
       "      <td>3</td>\n",
       "      <td>Heikkinen, Miss. Laina</td>\n",
       "      <td>female</td>\n",
       "      <td>26.0</td>\n",
       "      <td>0</td>\n",
       "      <td>0</td>\n",
       "      <td>STON/O2. 3101282</td>\n",
       "      <td>7.9250</td>\n",
       "      <td>NaN</td>\n",
       "      <td>S</td>\n",
       "    </tr>\n",
       "    <tr>\n",
       "      <th>3</th>\n",
       "      <td>4</td>\n",
       "      <td>1</td>\n",
       "      <td>1</td>\n",
       "      <td>Futrelle, Mrs. Jacques Heath (Lily May Peel)</td>\n",
       "      <td>female</td>\n",
       "      <td>35.0</td>\n",
       "      <td>1</td>\n",
       "      <td>0</td>\n",
       "      <td>113803</td>\n",
       "      <td>53.1000</td>\n",
       "      <td>C123</td>\n",
       "      <td>S</td>\n",
       "    </tr>\n",
       "    <tr>\n",
       "      <th>4</th>\n",
       "      <td>5</td>\n",
       "      <td>0</td>\n",
       "      <td>3</td>\n",
       "      <td>Allen, Mr. William Henry</td>\n",
       "      <td>male</td>\n",
       "      <td>35.0</td>\n",
       "      <td>0</td>\n",
       "      <td>0</td>\n",
       "      <td>373450</td>\n",
       "      <td>8.0500</td>\n",
       "      <td>NaN</td>\n",
       "      <td>S</td>\n",
       "    </tr>\n",
       "  </tbody>\n",
       "</table>\n",
       "</div>"
      ],
      "text/plain": [
       "   PassengerId  Survived  Pclass  \\\n",
       "0            1         0       3   \n",
       "1            2         1       1   \n",
       "2            3         1       3   \n",
       "3            4         1       1   \n",
       "4            5         0       3   \n",
       "\n",
       "                                                Name     Sex   Age  SibSp  \\\n",
       "0                            Braund, Mr. Owen Harris    male  22.0      1   \n",
       "1  Cumings, Mrs. John Bradley (Florence Briggs Th...  female  38.0      1   \n",
       "2                             Heikkinen, Miss. Laina  female  26.0      0   \n",
       "3       Futrelle, Mrs. Jacques Heath (Lily May Peel)  female  35.0      1   \n",
       "4                           Allen, Mr. William Henry    male  35.0      0   \n",
       "\n",
       "   Parch            Ticket     Fare Cabin Embarked  \n",
       "0      0         A/5 21171   7.2500   NaN        S  \n",
       "1      0          PC 17599  71.2833   C85        C  \n",
       "2      0  STON/O2. 3101282   7.9250   NaN        S  \n",
       "3      0            113803  53.1000  C123        S  \n",
       "4      0            373450   8.0500   NaN        S  "
      ]
     },
     "execution_count": 2,
     "metadata": {},
     "output_type": "execute_result"
    }
   ],
   "source": [
    "# read all datasets\n",
    "train_data = pd.read_csv(\"/kaggle/input/titanic/train.csv\")\n",
    "test_data = pd.read_csv(\"/kaggle/input/titanic/test.csv\")\n",
    "gender_data = pd.read_csv(\"/kaggle/input/titanic/gender_submission.csv\")\n",
    "train_data.head()\n",
    "# gender_data.head()"
   ]
  },
  {
   "cell_type": "code",
   "execution_count": 3,
   "id": "c4e48c7d",
   "metadata": {
    "execution": {
     "iopub.execute_input": "2025-02-04T01:28:37.099201Z",
     "iopub.status.busy": "2025-02-04T01:28:37.098796Z",
     "iopub.status.idle": "2025-02-04T01:28:37.111321Z",
     "shell.execute_reply": "2025-02-04T01:28:37.109992Z"
    },
    "papermill": {
     "duration": 0.019503,
     "end_time": "2025-02-04T01:28:37.113398",
     "exception": false,
     "start_time": "2025-02-04T01:28:37.093895",
     "status": "completed"
    },
    "tags": []
   },
   "outputs": [
    {
     "name": "stdout",
     "output_type": "stream",
     "text": [
      "PassengerId      0\n",
      "Survived         0\n",
      "Pclass           0\n",
      "Name             0\n",
      "Sex              0\n",
      "Age            177\n",
      "SibSp            0\n",
      "Parch            0\n",
      "Ticket           0\n",
      "Fare             0\n",
      "Cabin          687\n",
      "Embarked         2\n",
      "family_size      0\n",
      "dtype: int64\n"
     ]
    }
   ],
   "source": [
    "# add family_size feature\n",
    "train_data[\"family_size\"] = train_data[\"SibSp\"] + train_data[\"Parch\"]\n",
    "test_data[\"family_size\"] = test_data[\"SibSp\"] + test_data[\"Parch\"]\n",
    "\n",
    "# count missing vals\n",
    "count_missing_vals = train_data.isnull().sum()\n",
    "print(count_missing_vals)"
   ]
  },
  {
   "cell_type": "code",
   "execution_count": 4,
   "id": "98692b9d",
   "metadata": {
    "execution": {
     "iopub.execute_input": "2025-02-04T01:28:37.123283Z",
     "iopub.status.busy": "2025-02-04T01:28:37.122882Z",
     "iopub.status.idle": "2025-02-04T01:28:37.130803Z",
     "shell.execute_reply": "2025-02-04T01:28:37.129489Z"
    },
    "papermill": {
     "duration": 0.014846,
     "end_time": "2025-02-04T01:28:37.132719",
     "exception": false,
     "start_time": "2025-02-04T01:28:37.117873",
     "status": "completed"
    },
    "tags": []
   },
   "outputs": [],
   "source": [
    "# fill missing age values with mean\n",
    "mean_age = round(train_data[\"Age\"].mean())\n",
    "train_data.fillna({\"Age\": mean_age}, inplace=True)\n",
    "\n",
    "# change Sex (Categorical) to Numerical\n",
    "pd.set_option('future.no_silent_downcasting', True) # need this or else Downcasting behavior\n",
    "train_data.replace({\"Sex\": {\"female\": 1, \"male\": 0}}, inplace=True)"
   ]
  },
  {
   "cell_type": "code",
   "execution_count": 5,
   "id": "2aede2fd",
   "metadata": {
    "execution": {
     "iopub.execute_input": "2025-02-04T01:28:37.142915Z",
     "iopub.status.busy": "2025-02-04T01:28:37.142351Z",
     "iopub.status.idle": "2025-02-04T01:28:37.178256Z",
     "shell.execute_reply": "2025-02-04T01:28:37.176809Z"
    },
    "papermill": {
     "duration": 0.043477,
     "end_time": "2025-02-04T01:28:37.180544",
     "exception": false,
     "start_time": "2025-02-04T01:28:37.137067",
     "status": "completed"
    },
    "tags": []
   },
   "outputs": [
    {
     "data": {
      "text/html": [
       "<div>\n",
       "<style scoped>\n",
       "    .dataframe tbody tr th:only-of-type {\n",
       "        vertical-align: middle;\n",
       "    }\n",
       "\n",
       "    .dataframe tbody tr th {\n",
       "        vertical-align: top;\n",
       "    }\n",
       "\n",
       "    .dataframe thead th {\n",
       "        text-align: right;\n",
       "    }\n",
       "</style>\n",
       "<table border=\"1\" class=\"dataframe\">\n",
       "  <thead>\n",
       "    <tr style=\"text-align: right;\">\n",
       "      <th></th>\n",
       "      <th>PassengerId</th>\n",
       "      <th>Survived</th>\n",
       "      <th>Pclass</th>\n",
       "      <th>Age</th>\n",
       "      <th>SibSp</th>\n",
       "      <th>Parch</th>\n",
       "      <th>Fare</th>\n",
       "      <th>family_size</th>\n",
       "    </tr>\n",
       "  </thead>\n",
       "  <tbody>\n",
       "    <tr>\n",
       "      <th>count</th>\n",
       "      <td>891.000000</td>\n",
       "      <td>891.000000</td>\n",
       "      <td>891.000000</td>\n",
       "      <td>891.000000</td>\n",
       "      <td>891.000000</td>\n",
       "      <td>891.000000</td>\n",
       "      <td>891.000000</td>\n",
       "      <td>891.000000</td>\n",
       "    </tr>\n",
       "    <tr>\n",
       "      <th>mean</th>\n",
       "      <td>446.000000</td>\n",
       "      <td>0.383838</td>\n",
       "      <td>2.308642</td>\n",
       "      <td>29.758889</td>\n",
       "      <td>0.523008</td>\n",
       "      <td>0.381594</td>\n",
       "      <td>32.204208</td>\n",
       "      <td>0.904602</td>\n",
       "    </tr>\n",
       "    <tr>\n",
       "      <th>std</th>\n",
       "      <td>257.353842</td>\n",
       "      <td>0.486592</td>\n",
       "      <td>0.836071</td>\n",
       "      <td>13.002570</td>\n",
       "      <td>1.102743</td>\n",
       "      <td>0.806057</td>\n",
       "      <td>49.693429</td>\n",
       "      <td>1.613459</td>\n",
       "    </tr>\n",
       "    <tr>\n",
       "      <th>min</th>\n",
       "      <td>1.000000</td>\n",
       "      <td>0.000000</td>\n",
       "      <td>1.000000</td>\n",
       "      <td>0.420000</td>\n",
       "      <td>0.000000</td>\n",
       "      <td>0.000000</td>\n",
       "      <td>0.000000</td>\n",
       "      <td>0.000000</td>\n",
       "    </tr>\n",
       "    <tr>\n",
       "      <th>25%</th>\n",
       "      <td>223.500000</td>\n",
       "      <td>0.000000</td>\n",
       "      <td>2.000000</td>\n",
       "      <td>22.000000</td>\n",
       "      <td>0.000000</td>\n",
       "      <td>0.000000</td>\n",
       "      <td>7.910400</td>\n",
       "      <td>0.000000</td>\n",
       "    </tr>\n",
       "    <tr>\n",
       "      <th>50%</th>\n",
       "      <td>446.000000</td>\n",
       "      <td>0.000000</td>\n",
       "      <td>3.000000</td>\n",
       "      <td>30.000000</td>\n",
       "      <td>0.000000</td>\n",
       "      <td>0.000000</td>\n",
       "      <td>14.454200</td>\n",
       "      <td>0.000000</td>\n",
       "    </tr>\n",
       "    <tr>\n",
       "      <th>75%</th>\n",
       "      <td>668.500000</td>\n",
       "      <td>1.000000</td>\n",
       "      <td>3.000000</td>\n",
       "      <td>35.000000</td>\n",
       "      <td>1.000000</td>\n",
       "      <td>0.000000</td>\n",
       "      <td>31.000000</td>\n",
       "      <td>1.000000</td>\n",
       "    </tr>\n",
       "    <tr>\n",
       "      <th>max</th>\n",
       "      <td>891.000000</td>\n",
       "      <td>1.000000</td>\n",
       "      <td>3.000000</td>\n",
       "      <td>80.000000</td>\n",
       "      <td>8.000000</td>\n",
       "      <td>6.000000</td>\n",
       "      <td>512.329200</td>\n",
       "      <td>10.000000</td>\n",
       "    </tr>\n",
       "  </tbody>\n",
       "</table>\n",
       "</div>"
      ],
      "text/plain": [
       "       PassengerId    Survived      Pclass         Age       SibSp  \\\n",
       "count   891.000000  891.000000  891.000000  891.000000  891.000000   \n",
       "mean    446.000000    0.383838    2.308642   29.758889    0.523008   \n",
       "std     257.353842    0.486592    0.836071   13.002570    1.102743   \n",
       "min       1.000000    0.000000    1.000000    0.420000    0.000000   \n",
       "25%     223.500000    0.000000    2.000000   22.000000    0.000000   \n",
       "50%     446.000000    0.000000    3.000000   30.000000    0.000000   \n",
       "75%     668.500000    1.000000    3.000000   35.000000    1.000000   \n",
       "max     891.000000    1.000000    3.000000   80.000000    8.000000   \n",
       "\n",
       "            Parch        Fare  family_size  \n",
       "count  891.000000  891.000000   891.000000  \n",
       "mean     0.381594   32.204208     0.904602  \n",
       "std      0.806057   49.693429     1.613459  \n",
       "min      0.000000    0.000000     0.000000  \n",
       "25%      0.000000    7.910400     0.000000  \n",
       "50%      0.000000   14.454200     0.000000  \n",
       "75%      0.000000   31.000000     1.000000  \n",
       "max      6.000000  512.329200    10.000000  "
      ]
     },
     "execution_count": 5,
     "metadata": {},
     "output_type": "execute_result"
    }
   ],
   "source": [
    "train_data.describe()"
   ]
  },
  {
   "cell_type": "code",
   "execution_count": 6,
   "id": "8f2836b8",
   "metadata": {
    "execution": {
     "iopub.execute_input": "2025-02-04T01:28:37.190972Z",
     "iopub.status.busy": "2025-02-04T01:28:37.190547Z",
     "iopub.status.idle": "2025-02-04T01:28:37.210623Z",
     "shell.execute_reply": "2025-02-04T01:28:37.209548Z"
    },
    "papermill": {
     "duration": 0.027128,
     "end_time": "2025-02-04T01:28:37.212319",
     "exception": false,
     "start_time": "2025-02-04T01:28:37.185191",
     "status": "completed"
    },
    "tags": []
   },
   "outputs": [
    {
     "data": {
      "text/html": [
       "<div>\n",
       "<style scoped>\n",
       "    .dataframe tbody tr th:only-of-type {\n",
       "        vertical-align: middle;\n",
       "    }\n",
       "\n",
       "    .dataframe tbody tr th {\n",
       "        vertical-align: top;\n",
       "    }\n",
       "\n",
       "    .dataframe thead th {\n",
       "        text-align: right;\n",
       "    }\n",
       "</style>\n",
       "<table border=\"1\" class=\"dataframe\">\n",
       "  <thead>\n",
       "    <tr style=\"text-align: right;\">\n",
       "      <th></th>\n",
       "      <th>PassengerId</th>\n",
       "      <th>Survived</th>\n",
       "      <th>Pclass</th>\n",
       "      <th>Age</th>\n",
       "      <th>SibSp</th>\n",
       "      <th>Parch</th>\n",
       "      <th>Fare</th>\n",
       "      <th>family_size</th>\n",
       "    </tr>\n",
       "  </thead>\n",
       "  <tbody>\n",
       "    <tr>\n",
       "      <th>PassengerId</th>\n",
       "      <td>1.000000</td>\n",
       "      <td>-0.005007</td>\n",
       "      <td>-0.035144</td>\n",
       "      <td>0.033019</td>\n",
       "      <td>-0.057527</td>\n",
       "      <td>-0.001652</td>\n",
       "      <td>0.012658</td>\n",
       "      <td>-0.040143</td>\n",
       "    </tr>\n",
       "    <tr>\n",
       "      <th>Survived</th>\n",
       "      <td>-0.005007</td>\n",
       "      <td>1.000000</td>\n",
       "      <td>-0.338481</td>\n",
       "      <td>-0.070657</td>\n",
       "      <td>-0.035322</td>\n",
       "      <td>0.081629</td>\n",
       "      <td>0.257307</td>\n",
       "      <td>0.016639</td>\n",
       "    </tr>\n",
       "    <tr>\n",
       "      <th>Pclass</th>\n",
       "      <td>-0.035144</td>\n",
       "      <td>-0.338481</td>\n",
       "      <td>1.000000</td>\n",
       "      <td>-0.329727</td>\n",
       "      <td>0.083081</td>\n",
       "      <td>0.018443</td>\n",
       "      <td>-0.549500</td>\n",
       "      <td>0.065997</td>\n",
       "    </tr>\n",
       "    <tr>\n",
       "      <th>Age</th>\n",
       "      <td>0.033019</td>\n",
       "      <td>-0.070657</td>\n",
       "      <td>-0.329727</td>\n",
       "      <td>1.000000</td>\n",
       "      <td>-0.232440</td>\n",
       "      <td>-0.180330</td>\n",
       "      <td>0.090632</td>\n",
       "      <td>-0.248954</td>\n",
       "    </tr>\n",
       "    <tr>\n",
       "      <th>SibSp</th>\n",
       "      <td>-0.057527</td>\n",
       "      <td>-0.035322</td>\n",
       "      <td>0.083081</td>\n",
       "      <td>-0.232440</td>\n",
       "      <td>1.000000</td>\n",
       "      <td>0.414838</td>\n",
       "      <td>0.159651</td>\n",
       "      <td>0.890712</td>\n",
       "    </tr>\n",
       "    <tr>\n",
       "      <th>Parch</th>\n",
       "      <td>-0.001652</td>\n",
       "      <td>0.081629</td>\n",
       "      <td>0.018443</td>\n",
       "      <td>-0.180330</td>\n",
       "      <td>0.414838</td>\n",
       "      <td>1.000000</td>\n",
       "      <td>0.216225</td>\n",
       "      <td>0.783111</td>\n",
       "    </tr>\n",
       "    <tr>\n",
       "      <th>Fare</th>\n",
       "      <td>0.012658</td>\n",
       "      <td>0.257307</td>\n",
       "      <td>-0.549500</td>\n",
       "      <td>0.090632</td>\n",
       "      <td>0.159651</td>\n",
       "      <td>0.216225</td>\n",
       "      <td>1.000000</td>\n",
       "      <td>0.217138</td>\n",
       "    </tr>\n",
       "    <tr>\n",
       "      <th>family_size</th>\n",
       "      <td>-0.040143</td>\n",
       "      <td>0.016639</td>\n",
       "      <td>0.065997</td>\n",
       "      <td>-0.248954</td>\n",
       "      <td>0.890712</td>\n",
       "      <td>0.783111</td>\n",
       "      <td>0.217138</td>\n",
       "      <td>1.000000</td>\n",
       "    </tr>\n",
       "  </tbody>\n",
       "</table>\n",
       "</div>"
      ],
      "text/plain": [
       "             PassengerId  Survived    Pclass       Age     SibSp     Parch  \\\n",
       "PassengerId     1.000000 -0.005007 -0.035144  0.033019 -0.057527 -0.001652   \n",
       "Survived       -0.005007  1.000000 -0.338481 -0.070657 -0.035322  0.081629   \n",
       "Pclass         -0.035144 -0.338481  1.000000 -0.329727  0.083081  0.018443   \n",
       "Age             0.033019 -0.070657 -0.329727  1.000000 -0.232440 -0.180330   \n",
       "SibSp          -0.057527 -0.035322  0.083081 -0.232440  1.000000  0.414838   \n",
       "Parch          -0.001652  0.081629  0.018443 -0.180330  0.414838  1.000000   \n",
       "Fare            0.012658  0.257307 -0.549500  0.090632  0.159651  0.216225   \n",
       "family_size    -0.040143  0.016639  0.065997 -0.248954  0.890712  0.783111   \n",
       "\n",
       "                 Fare  family_size  \n",
       "PassengerId  0.012658    -0.040143  \n",
       "Survived     0.257307     0.016639  \n",
       "Pclass      -0.549500     0.065997  \n",
       "Age          0.090632    -0.248954  \n",
       "SibSp        0.159651     0.890712  \n",
       "Parch        0.216225     0.783111  \n",
       "Fare         1.000000     0.217138  \n",
       "family_size  0.217138     1.000000  "
      ]
     },
     "execution_count": 6,
     "metadata": {},
     "output_type": "execute_result"
    }
   ],
   "source": [
    "# filter train_data for numeric values to conduct numeric data analysis\n",
    "num_train_data = train_data.select_dtypes(include=['number'])\n",
    "train_corr_matrix = num_train_data.corr()\n",
    "train_corr_matrix"
   ]
  },
  {
   "cell_type": "code",
   "execution_count": 7,
   "id": "8646941b",
   "metadata": {
    "execution": {
     "iopub.execute_input": "2025-02-04T01:28:37.223179Z",
     "iopub.status.busy": "2025-02-04T01:28:37.222798Z",
     "iopub.status.idle": "2025-02-04T01:28:37.917041Z",
     "shell.execute_reply": "2025-02-04T01:28:37.915961Z"
    },
    "papermill": {
     "duration": 0.702029,
     "end_time": "2025-02-04T01:28:37.919236",
     "exception": false,
     "start_time": "2025-02-04T01:28:37.217207",
     "status": "completed"
    },
    "tags": []
   },
   "outputs": [
    {
     "data": {
      "text/plain": [
       "<seaborn.matrix.ClusterGrid at 0x79bed1f95d80>"
      ]
     },
     "execution_count": 7,
     "metadata": {},
     "output_type": "execute_result"
    },
    {
     "data": {
      "image/png": "[encoded data removed]",
      "text/plain": [
       "<Figure size 600x600 with 4 Axes>"
      ]
     },
     "metadata": {},
     "output_type": "display_data"
    }
   ],
   "source": [
    "# plot clustermap to see linkages and correlation vals\n",
    "mask = np.triu(np.ones_like(train_corr_matrix))\n",
    "sns.clustermap(train_corr_matrix,\n",
    "               annot=True,\n",
    "              fmt='.2f',\n",
    "              figsize=(6,6))"
   ]
  },
  {
   "cell_type": "code",
   "execution_count": 8,
   "id": "67dc0971",
   "metadata": {
    "execution": {
     "iopub.execute_input": "2025-02-04T01:28:37.933353Z",
     "iopub.status.busy": "2025-02-04T01:28:37.932944Z",
     "iopub.status.idle": "2025-02-04T01:28:37.937393Z",
     "shell.execute_reply": "2025-02-04T01:28:37.936189Z"
    },
    "papermill": {
     "duration": 0.013426,
     "end_time": "2025-02-04T01:28:37.939223",
     "exception": false,
     "start_time": "2025-02-04T01:28:37.925797",
     "status": "completed"
    },
    "tags": []
   },
   "outputs": [],
   "source": [
    "# begin ML trying with SVM Classification first\n",
    "# from sklearn import svm\n",
    "\n",
    "# # 77.5% accurary \n",
    "# # train_data[\"family_size\"] = train_data[\"SibSp\"] + train_data[\"Parch\"]\n",
    "# # test_data[\"family_size\"] = test_data[\"SibSp\"] + test_data[\"Parch\"]\n",
    "\n",
    "# y = train_data[\"Survived\"]\n",
    "# features = [\"Pclass\", \"Sex\", \"family_size\"]\n",
    "\n",
    "# X = pd.get_dummies(train_data[features])\n",
    "# X_test = pd.get_dummies(test_data[features])\n",
    "\n",
    "# clf = svm.SVC(C=1.0, kernel='rbf', random_state=42)\n",
    "# clf.fit(X, y)\n",
    "\n",
    "# predictions = clf.predict(X_test)\n",
    "\n",
    "# output = pd.DataFrame({'PassengerId': test_data.PassengerId, 'Survived': predictions})\n",
    "# output.to_csv('submission.csv', index=False)"
   ]
  },
  {
   "cell_type": "code",
   "execution_count": 9,
   "id": "a1794a1c",
   "metadata": {
    "execution": {
     "iopub.execute_input": "2025-02-04T01:28:37.953479Z",
     "iopub.status.busy": "2025-02-04T01:28:37.953039Z",
     "iopub.status.idle": "2025-02-04T01:28:37.957348Z",
     "shell.execute_reply": "2025-02-04T01:28:37.956020Z"
    },
    "papermill": {
     "duration": 0.013486,
     "end_time": "2025-02-04T01:28:37.959155",
     "exception": false,
     "start_time": "2025-02-04T01:28:37.945669",
     "status": "completed"
    },
    "tags": []
   },
   "outputs": [],
   "source": [
    "# now try\n",
    "# adding different features\n",
    "# scaling all features\n",
    "# using different kernels\n",
    "# grid search for best hyperparameters\n",
    "# try random forest and/or XGBoost"
   ]
  },
  {
   "cell_type": "code",
   "execution_count": 10,
   "id": "a2b7de71",
   "metadata": {
    "execution": {
     "iopub.execute_input": "2025-02-04T01:28:37.973180Z",
     "iopub.status.busy": "2025-02-04T01:28:37.972806Z",
     "iopub.status.idle": "2025-02-04T01:28:37.977101Z",
     "shell.execute_reply": "2025-02-04T01:28:37.975899Z"
    },
    "papermill": {
     "duration": 0.013643,
     "end_time": "2025-02-04T01:28:37.979264",
     "exception": false,
     "start_time": "2025-02-04T01:28:37.965621",
     "status": "completed"
    },
    "tags": []
   },
   "outputs": [],
   "source": [
    "# add a feature called \"family_size\" (siblings + parents)\n",
    "# and add kfold cross validation\n",
    "# from sklearn.model_selection import KFold\n",
    "# from sklearn.metrics import accuracy_score\n",
    "# from sklearn.model_selection import GridSearchCV\n",
    "\n",
    "# y = train_data[\"Survived\"]\n",
    "# features = [\"Pclass\", \"Sex\", \"family_size\"]\n",
    "\n",
    "# X = pd.get_dummies(train_data[features])\n",
    "# X_test = pd.get_dummies(test_data[features])\n",
    "\n",
    "\n",
    "# kf = KFold(n_splits=5, shuffle=True, random_state=1) # 83->85% accuracy\n",
    "# kf.get_n_splits(X)\n",
    "\n",
    "# for i, (train_index, test_index) in enumerate(kf.split(X, y)):\n",
    "#     # print(f\"Fold: {i}\")\n",
    "#     # print(f\"Train index={train_index}\")\n",
    "#     # print(f\"Test index={test_index}\")\n",
    "\n",
    "#     # use iloc or else KeyError\n",
    "#     clf = svm.SVC(C=1.0, kernel='rbf', random_state=42)\n",
    "#     clf.fit(X.iloc[train_index], y.iloc[train_index]) # train on subset\n",
    "    \n",
    "#     y_pred = clf.predict(X.iloc[test_index]) # validate \n",
    "#     accuracy = accuracy_score(y.iloc[test_index], y_pred)\n",
    "\n",
    "#     print(f\"Fold: {i}, accuracy: {accuracy}\")\n"
   ]
  },
  {
   "cell_type": "code",
   "execution_count": 11,
   "id": "3d165b3f",
   "metadata": {
    "execution": {
     "iopub.execute_input": "2025-02-04T01:28:37.994563Z",
     "iopub.status.busy": "2025-02-04T01:28:37.994098Z",
     "iopub.status.idle": "2025-02-04T01:28:37.999312Z",
     "shell.execute_reply": "2025-02-04T01:28:37.997816Z"
    },
    "papermill": {
     "duration": 0.01607,
     "end_time": "2025-02-04T01:28:38.001928",
     "exception": false,
     "start_time": "2025-02-04T01:28:37.985858",
     "status": "completed"
    },
    "tags": []
   },
   "outputs": [],
   "source": [
    "# from sklearn.metrics import precision_score, accuracy_score, f1_score, recall_score\n",
    "# # Access the training and validation indices of splits\n",
    "# kfold_accuracy = {}\n",
    "# kfold_precision = {}\n",
    "# kfold_f = {}\n",
    "# kfold_recall = {}\n",
    "\n",
    "# train_data[\"family_size\"] = train_data[\"SibSp\"] + train_data[\"Parch\"]\n",
    "# test_data[\"family_size\"] = test_data[\"SibSp\"] + test_data[\"Parch\"]\n",
    "\n",
    "# y = train_data[\"Survived\"]\n",
    "# features = [\"Pclass\", \"Sex\", \"family_size\"]\n",
    "\n",
    "# X = pd.get_dummies(train_data[features])\n",
    "# X_test = pd.get_dummies(test_data[features])\n",
    "\n",
    "# kf = KFold(n_splits=5, shuffle=True, random_state=1)\n",
    "# splits = kf.split(X)\n",
    "\n",
    "# for i, (train_index, val_index) in enumerate(splits):\n",
    "#   print(\"Split n°: \", i)\n",
    "#   # Setup the training and validation data\n",
    "#   X_train, y_train = X.iloc[train_index], y.iloc[train_index]\n",
    "#   # print(\"training:\", train_index, \"validations:\", val_index)\n",
    "#   X_val,y_val= X.iloc[val_index], y.iloc[val_index]\n",
    "\n",
    "#   SVM = svm.SVC(C=1.0, kernel='linear', random_state=1111, probability=True) ### the base estimator\n",
    "\n",
    "#   SVM.fit(X_train, y_train)\n",
    "\n",
    "#   # predict the labels on validation dataset\n",
    "#   predictions = SVM.predict(X_val)\n",
    "\n",
    "#   # Use accuracy_score function to get the accuracy\n",
    "#   kfold_accuracy[i] = accuracy_score(y_val, predictions)\n",
    "#   kfold_precision[i] = precision_score(y_val, predictions)\n",
    "#   kfold_f[i] = f1_score(y_val,predictions)\n",
    "#   kfold_recall[i] = recall_score(y_val,predictions)"
   ]
  },
  {
   "cell_type": "code",
   "execution_count": 12,
   "id": "0f16c257",
   "metadata": {
    "execution": {
     "iopub.execute_input": "2025-02-04T01:28:38.016201Z",
     "iopub.status.busy": "2025-02-04T01:28:38.015813Z",
     "iopub.status.idle": "2025-02-04T01:28:38.020221Z",
     "shell.execute_reply": "2025-02-04T01:28:38.019005Z"
    },
    "papermill": {
     "duration": 0.013683,
     "end_time": "2025-02-04T01:28:38.022272",
     "exception": false,
     "start_time": "2025-02-04T01:28:38.008589",
     "status": "completed"
    },
    "tags": []
   },
   "outputs": [],
   "source": [
    "# # print dicts\n",
    "# for k, v in kfold_accuracy.items():\n",
    "#     print(f\"Fold: {k}\")\n",
    "#     print(f\"Accuracy: {kfold_accuracy[i]}\")\n",
    "#     print(f\"Precision: {kfold_precision[i]}\")\n",
    "#     print(f\"F1 Score: {kfold_f[i]}\")\n",
    "#     print(f\"Recall: {kfold_recall[i]}\")\n",
    "#     print(\"\\n\")"
   ]
  },
  {
   "cell_type": "code",
   "execution_count": 13,
   "id": "fdac4932",
   "metadata": {
    "execution": {
     "iopub.execute_input": "2025-02-04T01:28:38.036746Z",
     "iopub.status.busy": "2025-02-04T01:28:38.036392Z",
     "iopub.status.idle": "2025-02-04T01:28:38.040550Z",
     "shell.execute_reply": "2025-02-04T01:28:38.039458Z"
    },
    "papermill": {
     "duration": 0.013601,
     "end_time": "2025-02-04T01:28:38.042304",
     "exception": false,
     "start_time": "2025-02-04T01:28:38.028703",
     "status": "completed"
    },
    "tags": []
   },
   "outputs": [],
   "source": [
    "# from sklearn.metrics import confusion_matrix, ConfusionMatrixDisplay\n",
    "\n",
    "# cm = confusion_matrix(y_val, predictions, labels=SVM.classes_)\n",
    "# display = ConfusionMatrixDisplay(cm)\n",
    "# display.plot()"
   ]
  },
  {
   "cell_type": "code",
   "execution_count": null,
   "id": "1beb0999",
   "metadata": {
    "papermill": {
     "duration": 0.006036,
     "end_time": "2025-02-04T01:28:38.054777",
     "exception": false,
     "start_time": "2025-02-04T01:28:38.048741",
     "status": "completed"
    },
    "tags": []
   },
   "outputs": [],
   "source": []
  }
 ],
 "metadata": {
  "kaggle": {
   "accelerator": "none",
   "dataSources": [
    {
     "databundleVersionId": 26502,
     "sourceId": 3136,
     "sourceType": "competition"
    }
   ],
   "dockerImageVersionId": 30839,
   "isGpuEnabled": false,
   "isInternetEnabled": true,
   "language": "python",
   "sourceType": "notebook"
  },
  "kernelspec": {
   "display_name": "Python 3",
   "language": "python",
   "name": "python3"
  },
  "language_info": {
   "codemirror_mode": {
    "name": "ipython",
    "version": 3
   },
   "file_extension": ".py",
   "mimetype": "text/x-python",
   "name": "python",
   "nbconvert_exporter": "python",
   "pygments_lexer": "ipython3",
   "version": "3.10.12"
  },
  "papermill": {
   "default_parameters": {},
   "duration": 7.477371,
   "end_time": "2025-02-04T01:28:38.781959",
   "environment_variables": {},
   "exception": null,
   "input_path": "__notebook__.ipynb",
   "output_path": "__notebook__.ipynb",
   "parameters": {},
   "start_time": "2025-02-04T01:28:31.304588",
   "version": "2.6.0"
  }
 },
 "nbformat": 4,
 "nbformat_minor": 5
}
